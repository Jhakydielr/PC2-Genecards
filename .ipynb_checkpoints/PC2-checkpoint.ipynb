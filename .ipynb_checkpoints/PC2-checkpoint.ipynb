{
 "cells": [
  {
   "cell_type": "code",
   "execution_count": 1,
   "id": "23382351",
   "metadata": {},
   "outputs": [],
   "source": [
    "import pandas as pd\n",
    "import numpy as np\n",
    "import matplotlib.pyplot as ptl\n",
    "import seaborn as sns\n",
    "from urllib.request import urlopen\n",
    "from bs4 import BeautifulSoup as soup\n",
    "import requests\n",
    "import urllib.request, urllib.parse, urllib.error\n",
    "import re\n",
    "from urllib.request import Request, urlopen"
   ]
  },
  {
   "cell_type": "code",
   "execution_count": 2,
   "id": "ee947fa3",
   "metadata": {
    "scrolled": true
   },
   "outputs": [
    {
     "name": "stdout",
     "output_type": "stream",
     "text": [
      "['TRNAS-GGA', 'LOC102173449', 'LOC102169333', 'LOC108636757', 'LOC102187712', 'VGLL3', 'CHMP2B', 'POU1F1', 'HTR1F', 'LOC102188976', 'CGGBP1', 'ZNF654', 'C1H3orf38', 'LOC102190548', 'SLC12A8', 'LOC106502043', 'ZNF148', 'SNX4', 'OSBPL11', 'LMLN', 'RPL35A', 'IQCG', 'LRCH3', 'FYTTD1', 'RUBCN', 'MUC20', 'MUC4', 'TNK2', 'TFRC', 'ZDHHC19', 'SLC51A', 'PCYT1A', 'TCTEX1D2', 'TM4SF19', 'UBXN7', 'LOC102173689', 'LOC106501980', 'RNF168', 'SMCO1', 'WDR53', 'FBXO45', 'LOC102175715', 'NRROS', 'CEP19', 'PIGX', 'PAK2', 'LOC108635601', 'SENP5', 'NCBP2', 'PIGZ', 'LOC102176365', 'MELTF', 'RTP2', 'SST', 'RTP4', 'LOC102171192', 'MASP1', 'RTP1', 'LOC102179137', 'ST6GAL1', 'TRNAK-UUU', 'ADIPOQ', 'RFC4', 'EIF4A2', 'MIR1248', 'KNG1', 'HRG', 'FETUB', 'AHSG', 'LOC108635832', 'DNAJB11', 'TBCCD1', 'CRYGS', 'DGKG', 'ETV5', 'LOC102179418', 'LOC108635834', 'LOC102178398', 'IGF2BP2', 'SENP2', 'POLR2H', 'CLCN2', 'LOC106502122', 'FAM131A', 'EIF4G1', 'PSMD2', 'ECE2', 'CAMK2N2', 'ALG3', 'MIR1224', 'ABCF3', 'AP2M1', 'DVL3', 'EIF2B5', 'LOC102185396', 'LOC102185870', 'LOC102183010', 'LOC108636852', 'LOC102183269', 'ABCC5', 'LOC102183549', 'PARL', 'MAP6D1', 'YEATS2', 'LOC102187268', 'KLHL24', 'LOC108636351', 'KLHL6', 'LOC102188899', 'MCF2L2', 'LOC102189625', 'LOC108635871', 'B3GNT5', 'LOC106501989', 'LAMP3', 'MCCC1', 'DCUN1D1', 'ATP11B', 'TRNAS-GGA', 'LOC106502158', 'TNIK', 'SLC2A2', 'LOC102189522', 'EIF5A2', 'RPL22L1', 'SLC7A14', 'CLDN11', 'SKIL', 'PRKCI', 'PHC3', 'LOC102179814', 'GPR160', 'LOC108636005', 'LOC102189800', 'SEC62', 'SAMD7', 'LRRC31', 'LRRIQ4', 'TRNAY-GUA', 'LRRC34', 'MYNN', 'ACTRT3', 'TRNAV-AAC', 'LOC108636013', 'LOC106502248', 'SHOX2', 'VEPH1', 'LOC102179325', 'PTX3', 'LOC108636061', 'CCNL1', 'LOC106502323', 'LEKR1', 'TIPARP', 'LOC102177566', 'SSR3', 'LOC102179240', 'LOC102179815', 'RAP2B', 'P2RY1', 'LOC106502324', 'MBNL1', 'LOC102180350', 'SUCNR1', 'LOC102189434', 'LOC102181165', 'LOC102176168', 'LOC102189713', 'LOC102179183', 'LOC102179464', 'LOC102178896', 'LOC108636081', 'TFF3', 'TFF2', 'TFF1', 'TMPRSS3', 'UBASH3A', 'RSPH1', 'SLC37A1', 'PDE9A', 'WDR4', 'NDUFV3', 'PKNOX1', 'ADARB1', 'POFUT2', 'COL18A1', 'SLC19A1', 'PCBP3', 'LOC102190823', 'COL6A1', 'COL6A2', 'FTCD', 'SPATC1L', 'LSS', 'MCM3AP', 'YBEY', 'C1H21orf58', 'PCNT', 'LOC108636576', 'LOC102169226', 'DIP2A', 'S100B', 'PRMT2', 'FBXO25', 'TDRP', 'LOC102177758', 'DAZL', 'PLCL2', 'TBC1D5', 'TRNAW-CCA', 'SATB1', 'KCNH8']\n"
     ]
    }
   ],
   "source": [
    "# Extrayendo los nombres de los genes del acrvio excel\n",
    "datos = pd.read_excel('CHGenesOrdenadosConVecinos.xlsx')\n",
    "L=[]\n",
    "L = datos.iloc[:,0].to_list()\n",
    "print(L)"
   ]
  },
  {
   "cell_type": "code",
   "execution_count": 3,
   "id": "50f02b59",
   "metadata": {},
   "outputs": [
    {
     "name": "stdout",
     "output_type": "stream",
     "text": [
      "https://www.genecards.org/Search/Keyword?queryString=C1H3orf38\n"
     ]
    }
   ],
   "source": [
    "#almacena las urls de busqueda de los genes en una lista\n",
    "urls=[]\n",
    "for i in range(0,len(L)):\n",
    "       urls.append(\"https://www.genecards.org/Search/Keyword?queryString=\"+L[i])\n",
    "print(urls[12])"
   ]
  },
  {
   "cell_type": "code",
   "execution_count": 4,
   "id": "986637b5",
   "metadata": {},
   "outputs": [
    {
     "name": "stdout",
     "output_type": "stream",
     "text": [
      "['No results', 'No results', 'No results', 'No results', 'No results', 'Showing 25', 'Showing 25', 'Showing 25', 'Showing 25', 'No results', 'Showing 25', 'Showing 25', 'Showing 1 ', 'No results', 'Showing 25', 'No results', 'Showing 25', 'Showing 25', 'Showing 25', 'Showing 25', 'Showing 25', 'Showing 25', 'Showing 25', 'Showing 25', 'Showing 25', 'Showing 25', 'Showing 25', 'Showing 25', 'Showing 25', 'Showing 25', 'Showing 25', 'Showing 25', 'Showing 23', 'Showing 25', 'Showing 25', 'No results', 'No results', 'Showing 25', 'Showing 25', 'Showing 25', 'Showing 25', 'No results', 'Showing 25', 'Showing 25', 'Showing 25', 'Showing 25', 'No results', 'Showing 25', 'Showing 25', 'Showing 25', 'No results', 'Showing 25', 'Showing 25', 'Showing 25', 'Showing 25', 'No results', 'Showing 25', 'Showing 25', 'No results', 'Showing 25', 'No results', 'Showing 25', 'Showing 25', 'Showing 25', 'Showing 25', 'Showing 25', 'Showing 25', 'Showing 25', 'Showing 25', 'No results', 'Showing 25', 'Showing 25', 'Showing 25', 'Showing 25', 'Showing 25', 'No results', 'No results', 'No results', 'Showing 25', 'Showing 25', 'Showing 25', 'Showing 25', 'No results', 'Showing 25', 'Showing 25', 'Showing 25', 'Showing 25', 'Showing 25', 'Showing 25', 'Showing 25', 'Showing 25', 'Showing 25', 'Showing 25', 'Showing 25', 'No results', 'No results', 'No results', 'No results', 'No results', 'Showing 25', 'No results', 'Showing 25', 'Showing 25', 'Showing 25', 'No results', 'Showing 25', 'No results', 'Showing 25', 'No results', 'Showing 25', 'No results', 'No results', 'Showing 25', 'No results', 'Showing 25', 'Showing 25', 'Showing 25', 'Showing 25', 'No results', 'No results', 'Showing 25', 'Showing 25', 'No results', 'Showing 25', 'Showing 25', 'Showing 25', 'Showing 25', 'Showing 25', 'Showing 25', 'Showing 25', 'No results', 'Showing 25', 'No results', 'No results', 'Showing 25', 'Showing 25', 'Showing 25', 'Showing 25', 'No results', 'Showing 25', 'Showing 25', 'Showing 25', 'No results', 'No results', 'No results', 'Showing 25', 'Showing 25', 'No results', 'Showing 25', 'No results', 'Showing 25', 'No results', 'Showing 25', 'Showing 25', 'No results', 'Showing 25', 'No results', 'No results', 'Showing 25', 'Showing 25', 'No results', 'Showing 25', 'No results', 'Showing 25', 'No results', 'No results', 'No results', 'No results', 'No results', 'No results', 'No results', 'No results', 'Showing 25', 'Showing 25', 'Showing 25', 'Showing 25', 'Showing 25', 'Showing 25', 'Showing 25', 'Showing 25', 'Showing 25', 'Showing 25', 'Showing 25', 'Showing 25', 'Showing 25', 'Showing 25', 'Showing 25', 'Showing 25', 'No results', 'Showing 25', 'Showing 25', 'Showing 25', 'Showing 25', 'Showing 25', 'Showing 25', 'Showing 25', 'Showing 1 ', 'Showing 25', 'No results', 'No results', 'Showing 25', 'Showing 25', 'Showing 25', 'Showing 25', 'Showing 25', 'No results', 'Showing 25', 'Showing 25', 'Showing 25', 'No results', 'Showing 25', 'Showing 25']\n"
     ]
    }
   ],
   "source": [
    "# Si en el buscador aparece que no existe ese gen en su registro (No results) lo almacenara\n",
    "# headers={'User-Agent': 'Mozilla/5.0'} crea un bot que se puede infiltrar dentro de la url para hacer el web scraping\n",
    "resl=0\n",
    "B=[]\n",
    "\n",
    "for i in range(len(urls)):\n",
    "    requ = Request(urls[i], headers={'User-Agent': 'Mozilla/5.0'})\n",
    "    subpage = urlopen(requ).read()\n",
    "    pagesoup=soup(subpage, \"html.parser\")\n",
    "    resl = pagesoup.find(\"main\",{\"class\":\"col-xs-12\"}).h1.text[0:10]\n",
    "    B.append(resl)    \n",
    "print(B)"
   ]
  },
  {
   "cell_type": "code",
   "execution_count": 5,
   "id": "1b0d8e15",
   "metadata": {},
   "outputs": [
    {
     "name": "stdout",
     "output_type": "stream",
     "text": [
      "['na', 'na', 'na', 'na', 'na', ' ', ' ', ' ', ' ', 'na', ' ', ' ', ' ', 'na', ' ', 'na', ' ', ' ', ' ', ' ', ' ', ' ', ' ', ' ', ' ', ' ', ' ', ' ', ' ', ' ', ' ', ' ', ' ', ' ', ' ', 'na', 'na', ' ', ' ', ' ', ' ', 'na', ' ', ' ', ' ', ' ', 'na', ' ', ' ', ' ', 'na', ' ', ' ', ' ', ' ', 'na', ' ', ' ', 'na', ' ', 'na', ' ', ' ', ' ', ' ', ' ', ' ', ' ', ' ', 'na', ' ', ' ', ' ', ' ', ' ', 'na', 'na', 'na', ' ', ' ', ' ', ' ', 'na', ' ', ' ', ' ', ' ', ' ', ' ', ' ', ' ', ' ', ' ', ' ', 'na', 'na', 'na', 'na', 'na', ' ', 'na', ' ', ' ', ' ', 'na', ' ', 'na', ' ', 'na', ' ', 'na', 'na', ' ', 'na', ' ', ' ', ' ', ' ', 'na', 'na', ' ', ' ', 'na', ' ', ' ', ' ', ' ', ' ', ' ', ' ', 'na', ' ', 'na', 'na', ' ', ' ', ' ', ' ', 'na', ' ', ' ', ' ', 'na', 'na', 'na', ' ', ' ', 'na', ' ', 'na', ' ', 'na', ' ', ' ', 'na', ' ', 'na', 'na', ' ', ' ', 'na', ' ', 'na', ' ', 'na', 'na', 'na', 'na', 'na', 'na', 'na', 'na', ' ', ' ', ' ', ' ', ' ', ' ', ' ', ' ', ' ', ' ', ' ', ' ', ' ', ' ', ' ', ' ', 'na', ' ', ' ', ' ', ' ', ' ', ' ', ' ', ' ', ' ', 'na', 'na', ' ', ' ', ' ', ' ', ' ', 'na', ' ', ' ', ' ', 'na', ' ', ' ']\n",
      "['na', 'na', 'na', 'na', 'na', ' ', ' ', ' ', ' ', 'na', ' ', ' ', ' ', 'na', ' ', 'na', ' ', ' ', ' ', ' ', ' ', ' ', ' ', ' ', ' ', ' ', ' ', ' ', ' ', ' ', ' ', ' ', ' ', ' ', ' ', 'na', 'na', ' ', ' ', ' ', ' ', 'na', ' ', ' ', ' ', ' ', 'na', ' ', ' ', ' ', 'na', ' ', ' ', ' ', ' ', 'na', ' ', ' ', 'na', ' ', 'na', ' ', ' ', ' ', ' ', ' ', ' ', ' ', ' ', 'na', ' ', ' ', ' ', ' ', ' ', 'na', 'na', 'na', ' ', ' ', ' ', ' ', 'na', ' ', ' ', ' ', ' ', ' ', ' ', ' ', ' ', ' ', ' ', ' ', 'na', 'na', 'na', 'na', 'na', ' ', 'na', ' ', ' ', ' ', 'na', ' ', 'na', ' ', 'na', ' ', 'na', 'na', ' ', 'na', ' ', ' ', ' ', ' ', 'na', 'na', ' ', ' ', 'na', ' ', ' ', ' ', ' ', ' ', ' ', ' ', 'na', ' ', 'na', 'na', ' ', ' ', ' ', ' ', 'na', ' ', ' ', ' ', 'na', 'na', 'na', ' ', ' ', 'na', ' ', 'na', ' ', 'na', ' ', ' ', 'na', ' ', 'na', 'na', ' ', ' ', 'na', ' ', 'na', ' ', 'na', 'na', 'na', 'na', 'na', 'na', 'na', 'na', ' ', ' ', ' ', ' ', ' ', ' ', ' ', ' ', ' ', ' ', ' ', ' ', ' ', ' ', ' ', ' ', 'na', ' ', ' ', ' ', ' ', ' ', ' ', ' ', ' ', ' ', 'na', 'na', ' ', ' ', ' ', ' ', ' ', 'na', ' ', ' ', ' ', 'na', ' ', ' ']\n",
      "['na', 'na', 'na', 'na', 'na', ' ', ' ', ' ', ' ', 'na', ' ', ' ', ' ', 'na', ' ', 'na', ' ', ' ', ' ', ' ', ' ', ' ', ' ', ' ', ' ', ' ', ' ', ' ', ' ', ' ', ' ', ' ', ' ', ' ', ' ', 'na', 'na', ' ', ' ', ' ', ' ', 'na', ' ', ' ', ' ', ' ', 'na', ' ', ' ', ' ', 'na', ' ', ' ', ' ', ' ', 'na', ' ', ' ', 'na', ' ', 'na', ' ', ' ', ' ', ' ', ' ', ' ', ' ', ' ', 'na', ' ', ' ', ' ', ' ', ' ', 'na', 'na', 'na', ' ', ' ', ' ', ' ', 'na', ' ', ' ', ' ', ' ', ' ', ' ', ' ', ' ', ' ', ' ', ' ', 'na', 'na', 'na', 'na', 'na', ' ', 'na', ' ', ' ', ' ', 'na', ' ', 'na', ' ', 'na', ' ', 'na', 'na', ' ', 'na', ' ', ' ', ' ', ' ', 'na', 'na', ' ', ' ', 'na', ' ', ' ', ' ', ' ', ' ', ' ', ' ', 'na', ' ', 'na', 'na', ' ', ' ', ' ', ' ', 'na', ' ', ' ', ' ', 'na', 'na', 'na', ' ', ' ', 'na', ' ', 'na', ' ', 'na', ' ', ' ', 'na', ' ', 'na', 'na', ' ', ' ', 'na', ' ', 'na', ' ', 'na', 'na', 'na', 'na', 'na', 'na', 'na', 'na', ' ', ' ', ' ', ' ', ' ', ' ', ' ', ' ', ' ', ' ', ' ', ' ', ' ', ' ', ' ', ' ', 'na', ' ', ' ', ' ', ' ', ' ', ' ', ' ', ' ', ' ', 'na', 'na', ' ', ' ', ' ', ' ', ' ', 'na', ' ', ' ', ' ', 'na', ' ', ' ']\n",
      "['na', 'na', 'na', 'na', 'na', ' ', ' ', ' ', ' ', 'na', ' ', ' ', ' ', 'na', ' ', 'na', ' ', ' ', ' ', ' ', ' ', ' ', ' ', ' ', ' ', ' ', ' ', ' ', ' ', ' ', ' ', ' ', ' ', ' ', ' ', 'na', 'na', ' ', ' ', ' ', ' ', 'na', ' ', ' ', ' ', ' ', 'na', ' ', ' ', ' ', 'na', ' ', ' ', ' ', ' ', 'na', ' ', ' ', 'na', ' ', 'na', ' ', ' ', ' ', ' ', ' ', ' ', ' ', ' ', 'na', ' ', ' ', ' ', ' ', ' ', 'na', 'na', 'na', ' ', ' ', ' ', ' ', 'na', ' ', ' ', ' ', ' ', ' ', ' ', ' ', ' ', ' ', ' ', ' ', 'na', 'na', 'na', 'na', 'na', ' ', 'na', ' ', ' ', ' ', 'na', ' ', 'na', ' ', 'na', ' ', 'na', 'na', ' ', 'na', ' ', ' ', ' ', ' ', 'na', 'na', ' ', ' ', 'na', ' ', ' ', ' ', ' ', ' ', ' ', ' ', 'na', ' ', 'na', 'na', ' ', ' ', ' ', ' ', 'na', ' ', ' ', ' ', 'na', 'na', 'na', ' ', ' ', 'na', ' ', 'na', ' ', 'na', ' ', ' ', 'na', ' ', 'na', 'na', ' ', ' ', 'na', ' ', 'na', ' ', 'na', 'na', 'na', 'na', 'na', 'na', 'na', 'na', ' ', ' ', ' ', ' ', ' ', ' ', ' ', ' ', ' ', ' ', ' ', ' ', ' ', ' ', ' ', ' ', 'na', ' ', ' ', ' ', ' ', ' ', ' ', ' ', ' ', ' ', 'na', 'na', ' ', ' ', ' ', ' ', ' ', 'na', ' ', ' ', ' ', 'na', ' ', ' ']\n",
      "['na', 'na', 'na', 'na', 'na', ' ', ' ', ' ', ' ', 'na', ' ', ' ', ' ', 'na', ' ', 'na', ' ', ' ', ' ', ' ', ' ', ' ', ' ', ' ', ' ', ' ', ' ', ' ', ' ', ' ', ' ', ' ', ' ', ' ', ' ', 'na', 'na', ' ', ' ', ' ', ' ', 'na', ' ', ' ', ' ', ' ', 'na', ' ', ' ', ' ', 'na', ' ', ' ', ' ', ' ', 'na', ' ', ' ', 'na', ' ', 'na', ' ', ' ', ' ', ' ', ' ', ' ', ' ', ' ', 'na', ' ', ' ', ' ', ' ', ' ', 'na', 'na', 'na', ' ', ' ', ' ', ' ', 'na', ' ', ' ', ' ', ' ', ' ', ' ', ' ', ' ', ' ', ' ', ' ', 'na', 'na', 'na', 'na', 'na', ' ', 'na', ' ', ' ', ' ', 'na', ' ', 'na', ' ', 'na', ' ', 'na', 'na', ' ', 'na', ' ', ' ', ' ', ' ', 'na', 'na', ' ', ' ', 'na', ' ', ' ', ' ', ' ', ' ', ' ', ' ', 'na', ' ', 'na', 'na', ' ', ' ', ' ', ' ', 'na', ' ', ' ', ' ', 'na', 'na', 'na', ' ', ' ', 'na', ' ', 'na', ' ', 'na', ' ', ' ', 'na', ' ', 'na', 'na', ' ', ' ', 'na', ' ', 'na', ' ', 'na', 'na', 'na', 'na', 'na', 'na', 'na', 'na', ' ', ' ', ' ', ' ', ' ', ' ', ' ', ' ', ' ', ' ', ' ', ' ', ' ', ' ', ' ', ' ', 'na', ' ', ' ', ' ', ' ', ' ', ' ', ' ', ' ', ' ', 'na', 'na', ' ', ' ', ' ', ' ', ' ', 'na', ' ', ' ', ' ', 'na', ' ', ' ']\n"
     ]
    }
   ],
   "source": [
    "# Creamos las variables de las cuales se pide la informacion\n",
    "Category=[' ']*212\n",
    "Name_of_the_gene=[' ']*212\n",
    "RNASeq=[' ']*212\n",
    "Microarray=[' ']*212\n",
    "SAGE=[' ']*212\n",
    "\n",
    "for i in range(len(B)):\n",
    "    if str(B[i]) == \"No results\":\n",
    "        Category[i]=\"na\"\n",
    "        Name_of_the_gene[i]=\"na\"\n",
    "        RNASeq[i]=\"na\"\n",
    "        Microarray[i]=\"na\"\n",
    "        SAGE[i]=\"na\"\n",
    "\n",
    "\n",
    "print(Category)    \n",
    "print(Name_of_the_gene)\n",
    "print(RNASeq)\n",
    "print(Microarray)\n",
    "print(SAGE)"
   ]
  },
  {
   "cell_type": "code",
   "execution_count": 6,
   "id": "a07e0ee3",
   "metadata": {},
   "outputs": [
    {
     "name": "stdout",
     "output_type": "stream",
     "text": [
      "[5, 6, 7, 8, 10, 11, 12, 14, 16, 17, 18, 19, 20, 21, 22, 23, 24, 25, 26, 27, 28, 29, 30, 31, 32, 33, 34, 37, 38, 39, 40, 42, 43, 44, 45, 47, 48, 49, 51, 52, 53, 54, 56, 57, 59, 61, 62, 63, 64, 65, 66, 67, 68, 70, 71, 72, 73, 74, 78, 79, 80, 81, 83, 84, 85, 86, 87, 88, 89, 90, 91, 92, 93, 99, 101, 102, 103, 105, 107, 109, 112, 114, 115, 116, 117, 120, 121, 123, 124, 125, 126, 127, 128, 129, 131, 134, 135, 136, 137, 139, 140, 141, 145, 146, 148, 150, 152, 153, 155, 158, 159, 161, 163, 172, 173, 174, 175, 176, 177, 178, 179, 180, 181, 182, 183, 184, 185, 186, 187, 189, 190, 191, 192, 193, 194, 195, 196, 197, 200, 201, 202, 203, 204, 206, 207, 208, 210, 211]\n"
     ]
    }
   ],
   "source": [
    "# Creamos una lista que contenga todos los indices de los datos que no son vacios (na)\n",
    "A=[]\n",
    "for i in range(len(B)):\n",
    "    if Category[i]!=\"na\":\n",
    "        A.append(i)\n",
    "print(A)"
   ]
  },
  {
   "cell_type": "code",
   "execution_count": 7,
   "id": "6bf89653",
   "metadata": {},
   "outputs": [
    {
     "name": "stdout",
     "output_type": "stream",
     "text": [
      "['No results', 'No results', 'No results', 'No results', 'No results', 'Showing 25', 'Showing 25', 'Showing 25', 'Showing 25', 'No results', 'Showing 25', 'Showing 25', 'No results', 'No results', 'Showing 25', 'No results', 'Showing 25', 'Showing 25', 'Showing 25', 'Showing 25', 'Showing 25', 'Showing 25', 'Showing 25', 'Showing 25', 'Showing 25', 'Showing 25', 'Showing 25', 'Showing 25', 'Showing 25', 'Showing 25', 'Showing 25', 'Showing 25', 'No results', 'Showing 25', 'Showing 25', 'No results', 'No results', 'Showing 25', 'Showing 25', 'Showing 25', 'Showing 25', 'No results', 'Showing 25', 'Showing 25', 'Showing 25', 'Showing 25', 'No results', 'Showing 25', 'Showing 25', 'Showing 25', 'No results', 'Showing 25', 'Showing 25', 'Showing 25', 'Showing 25', 'No results', 'Showing 25', 'Showing 25', 'No results', 'Showing 25', 'No results', 'Showing 25', 'Showing 25', 'Showing 25', 'Showing 25', 'Showing 25', 'Showing 25', 'Showing 25', 'Showing 25', 'No results', 'Showing 25', 'Showing 25', 'Showing 25', 'Showing 25', 'Showing 25', 'No results', 'No results', 'No results', 'Showing 25', 'Showing 25', 'Showing 25', 'Showing 25', 'No results', 'Showing 25', 'Showing 25', 'Showing 25', 'Showing 25', 'Showing 25', 'Showing 25', 'Showing 25', 'Showing 25', 'Showing 25', 'Showing 25', 'Showing 25', 'No results', 'No results', 'No results', 'No results', 'No results', 'Showing 25', 'No results', 'Showing 25', 'Showing 25', 'Showing 25', 'No results', 'Showing 25', 'No results', 'Showing 25', 'No results', 'Showing 25', 'No results', 'No results', 'Showing 25', 'No results', 'Showing 25', 'Showing 25', 'Showing 25', 'Showing 25', 'No results', 'No results', 'Showing 25', 'Showing 25', 'No results', 'Showing 25', 'Showing 25', 'Showing 25', 'Showing 25', 'Showing 25', 'Showing 25', 'Showing 25', 'No results', 'Showing 25', 'No results', 'No results', 'Showing 25', 'Showing 25', 'Showing 25', 'Showing 25', 'No results', 'Showing 25', 'Showing 25', 'Showing 25', 'No results', 'No results', 'No results', 'Showing 25', 'Showing 25', 'No results', 'Showing 25', 'No results', 'Showing 25', 'No results', 'Showing 25', 'Showing 25', 'No results', 'Showing 25', 'No results', 'No results', 'Showing 25', 'Showing 25', 'No results', 'Showing 25', 'No results', 'Showing 25', 'No results', 'No results', 'No results', 'No results', 'No results', 'No results', 'No results', 'No results', 'Showing 25', 'Showing 25', 'Showing 25', 'Showing 25', 'Showing 25', 'Showing 25', 'Showing 25', 'Showing 25', 'Showing 25', 'Showing 25', 'Showing 25', 'Showing 25', 'Showing 25', 'Showing 25', 'Showing 25', 'Showing 25', 'No results', 'Showing 25', 'Showing 25', 'Showing 25', 'Showing 25', 'Showing 25', 'Showing 25', 'Showing 25', 'No results', 'Showing 25', 'No results', 'No results', 'Showing 25', 'Showing 25', 'Showing 25', 'Showing 25', 'Showing 25', 'No results', 'Showing 25', 'Showing 25', 'Showing 25', 'No results', 'Showing 25', 'Showing 25']\n"
     ]
    }
   ],
   "source": [
    "# Como en algunos links en vez de aparecer \"No results\" aparecia unas sugerencias, entonces filtramos \n",
    "# y comparamos a la primera primera sugerencia con el nombre original, y si no guardan parecido se les pone como\n",
    "# \"No results\" para evitar futuros errores\n",
    "for i in A:\n",
    "    requ = Request(urls[i], headers={'User-Agent': 'Mozilla/5.0'})\n",
    "    subpage = urlopen(requ).read()\n",
    "    pagesoup=soup(subpage, \"html.parser\")\n",
    "    res2 = pagesoup.find(\"td\",{\"class\":\"gc-gene-symbol gc-highlight symbol-col\"}).a.text[0:15]\n",
    "    if L[i]!=str(res2):\n",
    "        B[i]=\"No results\"\n",
    "\n",
    "print(B)"
   ]
  },
  {
   "cell_type": "code",
   "execution_count": 8,
   "id": "684a7b4b",
   "metadata": {},
   "outputs": [
    {
     "name": "stdout",
     "output_type": "stream",
     "text": [
      "['na', 'na', 'na', 'na', 'na', ' ', ' ', ' ', ' ', 'na', ' ', ' ', 'na', 'na', ' ', 'na', ' ', ' ', ' ', ' ', ' ', ' ', ' ', ' ', ' ', ' ', ' ', ' ', ' ', ' ', ' ', ' ', 'na', ' ', ' ', 'na', 'na', ' ', ' ', ' ', ' ', 'na', ' ', ' ', ' ', ' ', 'na', ' ', ' ', ' ', 'na', ' ', ' ', ' ', ' ', 'na', ' ', ' ', 'na', ' ', 'na', ' ', ' ', ' ', ' ', ' ', ' ', ' ', ' ', 'na', ' ', ' ', ' ', ' ', ' ', 'na', 'na', 'na', ' ', ' ', ' ', ' ', 'na', ' ', ' ', ' ', ' ', ' ', ' ', ' ', ' ', ' ', ' ', ' ', 'na', 'na', 'na', 'na', 'na', ' ', 'na', ' ', ' ', ' ', 'na', ' ', 'na', ' ', 'na', ' ', 'na', 'na', ' ', 'na', ' ', ' ', ' ', ' ', 'na', 'na', ' ', ' ', 'na', ' ', ' ', ' ', ' ', ' ', ' ', ' ', 'na', ' ', 'na', 'na', ' ', ' ', ' ', ' ', 'na', ' ', ' ', ' ', 'na', 'na', 'na', ' ', ' ', 'na', ' ', 'na', ' ', 'na', ' ', ' ', 'na', ' ', 'na', 'na', ' ', ' ', 'na', ' ', 'na', ' ', 'na', 'na', 'na', 'na', 'na', 'na', 'na', 'na', ' ', ' ', ' ', ' ', ' ', ' ', ' ', ' ', ' ', ' ', ' ', ' ', ' ', ' ', ' ', ' ', 'na', ' ', ' ', ' ', ' ', ' ', ' ', ' ', 'na', ' ', 'na', 'na', ' ', ' ', ' ', ' ', ' ', 'na', ' ', ' ', ' ', 'na', ' ', ' ']\n",
      "['na', 'na', 'na', 'na', 'na', ' ', ' ', ' ', ' ', 'na', ' ', ' ', 'na', 'na', ' ', 'na', ' ', ' ', ' ', ' ', ' ', ' ', ' ', ' ', ' ', ' ', ' ', ' ', ' ', ' ', ' ', ' ', 'na', ' ', ' ', 'na', 'na', ' ', ' ', ' ', ' ', 'na', ' ', ' ', ' ', ' ', 'na', ' ', ' ', ' ', 'na', ' ', ' ', ' ', ' ', 'na', ' ', ' ', 'na', ' ', 'na', ' ', ' ', ' ', ' ', ' ', ' ', ' ', ' ', 'na', ' ', ' ', ' ', ' ', ' ', 'na', 'na', 'na', ' ', ' ', ' ', ' ', 'na', ' ', ' ', ' ', ' ', ' ', ' ', ' ', ' ', ' ', ' ', ' ', 'na', 'na', 'na', 'na', 'na', ' ', 'na', ' ', ' ', ' ', 'na', ' ', 'na', ' ', 'na', ' ', 'na', 'na', ' ', 'na', ' ', ' ', ' ', ' ', 'na', 'na', ' ', ' ', 'na', ' ', ' ', ' ', ' ', ' ', ' ', ' ', 'na', ' ', 'na', 'na', ' ', ' ', ' ', ' ', 'na', ' ', ' ', ' ', 'na', 'na', 'na', ' ', ' ', 'na', ' ', 'na', ' ', 'na', ' ', ' ', 'na', ' ', 'na', 'na', ' ', ' ', 'na', ' ', 'na', ' ', 'na', 'na', 'na', 'na', 'na', 'na', 'na', 'na', ' ', ' ', ' ', ' ', ' ', ' ', ' ', ' ', ' ', ' ', ' ', ' ', ' ', ' ', ' ', ' ', 'na', ' ', ' ', ' ', ' ', ' ', ' ', ' ', 'na', ' ', 'na', 'na', ' ', ' ', ' ', ' ', ' ', 'na', ' ', ' ', ' ', 'na', ' ', ' ']\n",
      "['na', 'na', 'na', 'na', 'na', ' ', ' ', ' ', ' ', 'na', ' ', ' ', 'na', 'na', ' ', 'na', ' ', ' ', ' ', ' ', ' ', ' ', ' ', ' ', ' ', ' ', ' ', ' ', ' ', ' ', ' ', ' ', 'na', ' ', ' ', 'na', 'na', ' ', ' ', ' ', ' ', 'na', ' ', ' ', ' ', ' ', 'na', ' ', ' ', ' ', 'na', ' ', ' ', ' ', ' ', 'na', ' ', ' ', 'na', ' ', 'na', ' ', ' ', ' ', ' ', ' ', ' ', ' ', ' ', 'na', ' ', ' ', ' ', ' ', ' ', 'na', 'na', 'na', ' ', ' ', ' ', ' ', 'na', ' ', ' ', ' ', ' ', ' ', ' ', ' ', ' ', ' ', ' ', ' ', 'na', 'na', 'na', 'na', 'na', ' ', 'na', ' ', ' ', ' ', 'na', ' ', 'na', ' ', 'na', ' ', 'na', 'na', ' ', 'na', ' ', ' ', ' ', ' ', 'na', 'na', ' ', ' ', 'na', ' ', ' ', ' ', ' ', ' ', ' ', ' ', 'na', ' ', 'na', 'na', ' ', ' ', ' ', ' ', 'na', ' ', ' ', ' ', 'na', 'na', 'na', ' ', ' ', 'na', ' ', 'na', ' ', 'na', ' ', ' ', 'na', ' ', 'na', 'na', ' ', ' ', 'na', ' ', 'na', ' ', 'na', 'na', 'na', 'na', 'na', 'na', 'na', 'na', ' ', ' ', ' ', ' ', ' ', ' ', ' ', ' ', ' ', ' ', ' ', ' ', ' ', ' ', ' ', ' ', 'na', ' ', ' ', ' ', ' ', ' ', ' ', ' ', 'na', ' ', 'na', 'na', ' ', ' ', ' ', ' ', ' ', 'na', ' ', ' ', ' ', 'na', ' ', ' ']\n",
      "['na', 'na', 'na', 'na', 'na', ' ', ' ', ' ', ' ', 'na', ' ', ' ', 'na', 'na', ' ', 'na', ' ', ' ', ' ', ' ', ' ', ' ', ' ', ' ', ' ', ' ', ' ', ' ', ' ', ' ', ' ', ' ', 'na', ' ', ' ', 'na', 'na', ' ', ' ', ' ', ' ', 'na', ' ', ' ', ' ', ' ', 'na', ' ', ' ', ' ', 'na', ' ', ' ', ' ', ' ', 'na', ' ', ' ', 'na', ' ', 'na', ' ', ' ', ' ', ' ', ' ', ' ', ' ', ' ', 'na', ' ', ' ', ' ', ' ', ' ', 'na', 'na', 'na', ' ', ' ', ' ', ' ', 'na', ' ', ' ', ' ', ' ', ' ', ' ', ' ', ' ', ' ', ' ', ' ', 'na', 'na', 'na', 'na', 'na', ' ', 'na', ' ', ' ', ' ', 'na', ' ', 'na', ' ', 'na', ' ', 'na', 'na', ' ', 'na', ' ', ' ', ' ', ' ', 'na', 'na', ' ', ' ', 'na', ' ', ' ', ' ', ' ', ' ', ' ', ' ', 'na', ' ', 'na', 'na', ' ', ' ', ' ', ' ', 'na', ' ', ' ', ' ', 'na', 'na', 'na', ' ', ' ', 'na', ' ', 'na', ' ', 'na', ' ', ' ', 'na', ' ', 'na', 'na', ' ', ' ', 'na', ' ', 'na', ' ', 'na', 'na', 'na', 'na', 'na', 'na', 'na', 'na', ' ', ' ', ' ', ' ', ' ', ' ', ' ', ' ', ' ', ' ', ' ', ' ', ' ', ' ', ' ', ' ', 'na', ' ', ' ', ' ', ' ', ' ', ' ', ' ', 'na', ' ', 'na', 'na', ' ', ' ', ' ', ' ', ' ', 'na', ' ', ' ', ' ', 'na', ' ', ' ']\n",
      "['na', 'na', 'na', 'na', 'na', ' ', ' ', ' ', ' ', 'na', ' ', ' ', 'na', 'na', ' ', 'na', ' ', ' ', ' ', ' ', ' ', ' ', ' ', ' ', ' ', ' ', ' ', ' ', ' ', ' ', ' ', ' ', 'na', ' ', ' ', 'na', 'na', ' ', ' ', ' ', ' ', 'na', ' ', ' ', ' ', ' ', 'na', ' ', ' ', ' ', 'na', ' ', ' ', ' ', ' ', 'na', ' ', ' ', 'na', ' ', 'na', ' ', ' ', ' ', ' ', ' ', ' ', ' ', ' ', 'na', ' ', ' ', ' ', ' ', ' ', 'na', 'na', 'na', ' ', ' ', ' ', ' ', 'na', ' ', ' ', ' ', ' ', ' ', ' ', ' ', ' ', ' ', ' ', ' ', 'na', 'na', 'na', 'na', 'na', ' ', 'na', ' ', ' ', ' ', 'na', ' ', 'na', ' ', 'na', ' ', 'na', 'na', ' ', 'na', ' ', ' ', ' ', ' ', 'na', 'na', ' ', ' ', 'na', ' ', ' ', ' ', ' ', ' ', ' ', ' ', 'na', ' ', 'na', 'na', ' ', ' ', ' ', ' ', 'na', ' ', ' ', ' ', 'na', 'na', 'na', ' ', ' ', 'na', ' ', 'na', ' ', 'na', ' ', ' ', 'na', ' ', 'na', 'na', ' ', ' ', 'na', ' ', 'na', ' ', 'na', 'na', 'na', 'na', 'na', 'na', 'na', 'na', ' ', ' ', ' ', ' ', ' ', ' ', ' ', ' ', ' ', ' ', ' ', ' ', ' ', ' ', ' ', ' ', 'na', ' ', ' ', ' ', ' ', ' ', ' ', ' ', 'na', ' ', 'na', 'na', ' ', ' ', ' ', ' ', ' ', 'na', ' ', ' ', ' ', 'na', ' ', ' ']\n"
     ]
    }
   ],
   "source": [
    "# Añadimos nos nuevos \"na\" que hemos decubierto en las variables ya creadas\n",
    "Category=[' ']*212\n",
    "Name_of_the_gene=[' ']*212\n",
    "RNASeq=[' ']*212\n",
    "Microarray=[' ']*212\n",
    "SAGE=[' ']*212\n",
    "\n",
    "for i in range(len(B)):\n",
    "    if str(B[i]) == \"No results\":\n",
    "        Category[i]=\"na\"\n",
    "        Name_of_the_gene[i]=\"na\"\n",
    "        RNASeq[i]=\"na\"\n",
    "        Microarray[i]=\"na\"\n",
    "        SAGE[i]=\"na\"\n",
    "\n",
    "\n",
    "print(Category)    \n",
    "print(Name_of_the_gene)\n",
    "print(RNASeq)\n",
    "print(Microarray)\n",
    "print(SAGE)"
   ]
  },
  {
   "cell_type": "code",
   "execution_count": 9,
   "id": "426c6a36",
   "metadata": {},
   "outputs": [
    {
     "name": "stdout",
     "output_type": "stream",
     "text": [
      "145 https://www.genecards.org/cgi-bin/carddisp.pl?gene=SLC12A8&keywords=SLC12A8#expression\n"
     ]
    }
   ],
   "source": [
    "# Limpiamos los indices y con ellos solo estraemos la informacion de los datos de los cuales si se tiene registro\n",
    "# Siendo en este caso sus links los cuales guardan su informacion\n",
    "A=[]\n",
    "for i in range(len(B)):\n",
    "    if Category[i]!=\"na\":\n",
    "        A.append(i)\n",
    "        \n",
    "urls_1=[]\n",
    "for i in A:\n",
    "       urls_1.append(\"https://www.genecards.org/cgi-bin/carddisp.pl?gene=\"+L[i]+\"&keywords=\"+L[i]+\"#expression\")\n",
    "print(len(A),urls_1[6])"
   ]
  },
  {
   "cell_type": "code",
   "execution_count": 10,
   "id": "788310cf",
   "metadata": {},
   "outputs": [
    {
     "name": "stdout",
     "output_type": "stream",
     "text": [
      "['(Protein Coding)', '(Protein Coding)', '(Protein Coding)', '(Protein Coding)', '(Protein Coding)', '(Protein Coding)', '(Protein Coding)', '(Protein Coding)', '(Protein Coding)', '(Protein Coding)', '(Protein Coding)', '(Protein Coding)', '(Protein Coding)', '(Protein Coding)', '(Protein Coding)', '(Protein Coding)', '(Protein Coding)', '(Protein Coding)', '(Protein Coding)', '(Protein Coding)', '(Protein Coding)', '(Protein Coding)', '(Protein Coding)', '(Protein Coding)', '(Protein Coding)', '(Protein Coding)', '(Protein Coding)', '(Protein Coding)', '(Protein Coding)', '(Protein Coding)', '(Protein Coding)', '(Protein Coding)', '(Protein Coding)', '(Protein Coding)', '(Protein Coding)', '(Protein Coding)', '(Protein Coding)', '(Protein Coding)', '(Protein Coding)', '(Protein Coding)', '(Protein Coding)', '(Protein Coding)', '(Protein Coding)', '(Protein Coding)', '(Protein Coding)', '(Protein Coding)', '(RNA Gene)', '(Protein Coding)', '(Protein Coding)', '(Protein Coding)', '(Protein Coding)', '(Protein Coding)', '(Protein Coding)', '(Protein Coding)', '(Protein Coding)', '(Protein Coding)', '(Protein Coding)', '(Protein Coding)', '(Protein Coding)', '(Protein Coding)', '(Protein Coding)', '(Protein Coding)', '(Protein Coding)', '(Protein Coding)', '(Protein Coding)', '(Protein Coding)', '(RNA Gene)', '(Protein Coding)', '(Protein Coding)', '(Protein Coding)', '(Protein Coding)', '(Protein Coding)', '(Protein Coding)', '(Protein Coding)', '(Protein Coding)', '(Protein Coding)', '(Protein Coding)', '(Protein Coding)', '(Protein Coding)', '(Protein Coding)', '(Protein Coding)', '(Protein Coding)', '(Protein Coding)', '(Protein Coding)', '(Protein Coding)', '(Protein Coding)', '(Protein Coding)', '(Protein Coding)', '(Protein Coding)', '(Protein Coding)', '(Protein Coding)', '(Protein Coding)', '(Protein Coding)', '(Protein Coding)', '(Protein Coding)', '(Protein Coding)', '(Protein Coding)', '(Protein Coding)', '(Protein Coding)', '(Protein Coding)', '(Protein Coding)', '(Protein Coding)', '(Protein Coding)', '(Protein Coding)', '(Protein Coding)', '(Protein Coding)', '(Protein Coding)', '(Protein Coding)', '(Protein Coding)', '(Protein Coding)', '(Protein Coding)', '(Protein Coding)', '(Protein Coding)', '(Protein Coding)', '(Protein Coding)', '(Protein Coding)', '(Protein Coding)', '(Protein Coding)', '(Protein Coding)', '(Protein Coding)', '(Protein Coding)', '(Protein Coding)', '(Protein Coding)', '(Protein Coding)', '(Protein Coding)', '(Protein Coding)', '(Protein Coding)', '(Protein Coding)', '(Protein Coding)', '(Protein Coding)', '(Protein Coding)', '(Protein Coding)', '(Protein Coding)', '(Protein Coding)', '(Protein Coding)', '(Protein Coding)', '(Protein Coding)', '(Protein Coding)', '(Protein Coding)', '(Protein Coding)', '(Protein Coding)', '(Protein Coding)', '(Protein Coding)', '(Protein Coding)', '(Protein Coding)']\n"
     ]
    }
   ],
   "source": [
    "# Creamos una lista que nos permite alamacenar todos los valores de las categorias a las que pertenece cada gen\n",
    "cat_ll=[]\n",
    "for i in range(0,145):\n",
    "    requ = Request(urls_1[i], headers={'User-Agent': 'Mozilla/5.0'})\n",
    "    subpage = urlopen(requ).read()\n",
    "    pagesoup=soup(subpage, \"html.parser\")\n",
    "    resl = pagesoup.find(\"span\",{\"class\":\"keep-together\"}).span.text[0:16]\n",
    "    cat_ll.append(resl)\n",
    "    \n",
    "print(cat_ll)  "
   ]
  },
  {
   "cell_type": "code",
   "execution_count": 11,
   "id": "beb401a2",
   "metadata": {},
   "outputs": [
    {
     "name": "stdout",
     "output_type": "stream",
     "text": [
      "['na', 'na', 'na', 'na', 'na', '(Protein Coding)', '(Protein Coding)', '(Protein Coding)', '(Protein Coding)', 'na', '(Protein Coding)', '(Protein Coding)', 'na', 'na', '(Protein Coding)', 'na', '(Protein Coding)', '(Protein Coding)', '(Protein Coding)', '(Protein Coding)', '(Protein Coding)', '(Protein Coding)', '(Protein Coding)', '(Protein Coding)', '(Protein Coding)', '(Protein Coding)', '(Protein Coding)', '(Protein Coding)', '(Protein Coding)', '(Protein Coding)', '(Protein Coding)', '(Protein Coding)', 'na', '(Protein Coding)', '(Protein Coding)', 'na', 'na', '(Protein Coding)', '(Protein Coding)', '(Protein Coding)', '(Protein Coding)', 'na', '(Protein Coding)', '(Protein Coding)', '(Protein Coding)', '(Protein Coding)', 'na', '(Protein Coding)', '(Protein Coding)', '(Protein Coding)', 'na', '(Protein Coding)', '(Protein Coding)', '(Protein Coding)', '(Protein Coding)', 'na', '(Protein Coding)', '(Protein Coding)', 'na', '(Protein Coding)', 'na', '(Protein Coding)', '(Protein Coding)', '(Protein Coding)', '(Protein Coding)', '(Protein Coding)', '(Protein Coding)', '(Protein Coding)', '(Protein Coding)', 'na', '(Protein Coding)', '(Protein Coding)', '(Protein Coding)', '(Protein Coding)', '(Protein Coding)', 'na', 'na', 'na', '(Protein Coding)', '(Protein Coding)', '(Protein Coding)', '(Protein Coding)', 'na', '(Protein Coding)', '(Protein Coding)', '(Protein Coding)', '(Protein Coding)', '(Protein Coding)', '(Protein Coding)', '(Protein Coding)', '(Protein Coding)', '(Protein Coding)', '(Protein Coding)', '(Protein Coding)', 'na', 'na', 'na', 'na', 'na', '(Protein Coding)', 'na', '(Protein Coding)', '(Protein Coding)', '(Protein Coding)', 'na', '(Protein Coding)', 'na', '(Protein Coding)', 'na', '(Protein Coding)', 'na', 'na', '(Protein Coding)', 'na', '(Protein Coding)', '(Protein Coding)', '(Protein Coding)', '(Protein Coding)', 'na', 'na', '(Protein Coding)', '(Protein Coding)', 'na', '(Protein Coding)', '(Protein Coding)', '(Protein Coding)', '(Protein Coding)', '(Protein Coding)', '(Protein Coding)', '(Protein Coding)', 'na', '(Protein Coding)', 'na', 'na', '(Protein Coding)', '(Protein Coding)', '(Protein Coding)', '(Protein Coding)', 'na', '(Protein Coding)', '(Protein Coding)', '(Protein Coding)', 'na', 'na', 'na', '(Protein Coding)', '(Protein Coding)', 'na', '(Protein Coding)', 'na', '(Protein Coding)', 'na', '(Protein Coding)', '(Protein Coding)', 'na', '(Protein Coding)', 'na', 'na', '(Protein Coding)', '(Protein Coding)', 'na', '(Protein Coding)', 'na', '(Protein Coding)', 'na', 'na', 'na', 'na', 'na', 'na', 'na', 'na', '(Protein Coding)', '(Protein Coding)', '(Protein Coding)', '(Protein Coding)', '(Protein Coding)', '(Protein Coding)', '(Protein Coding)', '(Protein Coding)', '(Protein Coding)', '(Protein Coding)', '(Protein Coding)', '(Protein Coding)', '(Protein Coding)', '(Protein Coding)', '(Protein Coding)', '(Protein Coding)', 'na', '(Protein Coding)', '(Protein Coding)', '(Protein Coding)', '(Protein Coding)', '(Protein Coding)', '(Protein Coding)', '(Protein Coding)', 'na', '(Protein Coding)', 'na', 'na', '(Protein Coding)', '(Protein Coding)', '(Protein Coding)', '(Protein Coding)', '(Protein Coding)', 'na', '(Protein Coding)', '(Protein Coding)', '(Protein Coding)', 'na', '(Protein Coding)', '(Protein Coding)']\n"
     ]
    }
   ],
   "source": [
    "# Aqui si es que la variable categoria es diferente a \"na\" entonces agregara a la categoria estraida\n",
    "# siendo asi que quedaran en su respectivo orden\n",
    "for i in range(len(Category)):\n",
    "    if Category[i]!=\"na\":\n",
    "        for j in range(len(cat_ll)):\n",
    "            Category[i]=cat_ll[j]\n",
    "print(Category) "
   ]
  },
  {
   "cell_type": "code",
   "execution_count": 12,
   "id": "942c86e7",
   "metadata": {},
   "outputs": [
    {
     "name": "stdout",
     "output_type": "stream",
     "text": [
      "['Vestigial Like Family Member 3', 'Charged Multivesicular Body Protein', 'POU Class 1 Homeobox 1', '5-Hydroxytryptamine Receptor 1F', 'CGG Triplet Repeat Binding Protein ', 'Zinc Finger Protein 654', 'Solute Carrier Family 12 Member 8', 'Zinc Finger Protein 148', 'Sorting Nexin 4', 'Oxysterol Binding Protein Like 11', 'Leishmanolysin Like Peptidase', 'Ribosomal Protein L35a', 'IQ Motif Containing G', 'Leucine Rich Repeats And Calponin H', 'Forty-Two-Three Domain Containing 1', 'Rubicon Autophagy Regulator', 'Mucin 20, Cell Surface Associated', 'Mucin 4, Cell Surface Associated', 'Tyrosine Kinase Non Receptor 2', 'Transferrin Receptor', 'Zinc Finger DHHC-Type Palmitoyltran', 'Solute Carrier Family 51 Subunit Al', 'Phosphate Cytidylyltransferase 1A, ', 'Transmembrane 4 L Six Family Member', 'UBX Domain Protein 7', 'Ring Finger Protein 168', 'Single-Pass Membrane Protein With C', 'WD Repeat Domain 53', 'F-Box Protein 45', 'Negative Regulator Of Reactive Oxyg', 'Centrosomal Protein 19', 'Phosphatidylinositol Glycan Anchor ', 'P21 (RAC1) Activated Kinase 2', 'SUMO Specific Peptidase 5', 'Nuclear Cap Binding Protein Subunit', 'Phosphatidylinositol Glycan Anchor ', 'Melanotransferrin', 'Receptor Transporter Protein 2', 'Somatostatin', 'Receptor Transporter Protein 4', 'MBL Associated Serine Protease 1', 'Receptor Transporter Protein 1', 'ST6 Beta-Galactoside Alpha-2,6-Sial', 'Adiponectin, C1Q And Collagen Domai', 'Replication Factor C Subunit 4', 'Eukaryotic Translation Initiation F', 'MicroRNA 1248', 'Kininogen 1', 'Histidine Rich Glycoprotein', 'Fetuin B', 'Alpha 2-HS Glycoprotein', 'DnaJ Heat Shock Protein Family (Hsp', 'TBCC Domain Containing 1', 'Crystallin Gamma S', 'Diacylglycerol Kinase Gamma', 'ETS Variant Transcription Factor 5', 'Insulin Like Growth Factor 2 MRNA B', 'SUMO Specific Peptidase 2', 'RNA Polymerase II, I And III Subuni', 'Chloride Voltage-Gated Channel 2', 'Family With Sequence Similarity 131', 'Eukaryotic Translation Initiation F', 'Proteasome 26S Subunit Ubiquitin Re', 'Endothelin Converting Enzyme 2', 'Calcium/Calmodulin Dependent Protei', 'ALG3 Alpha-1,3- Mannosyltransferase', 'MicroRNA 1224', 'ATP Binding Cassette Subfamily F Me', 'Adaptor Related Protein Complex 2 S', 'Dishevelled Segment Polarity Protei', 'Eukaryotic Translation Initiation F', 'ATP Binding Cassette Subfamily C Me', 'Presenilin Associated Rhomboid Like', 'MAP6 Domain Containing 1', 'YEATS Domain Containing 2', 'Kelch Like Family Member 24', 'Kelch Like Family Member 6', 'MCF.2 Cell Line Derived Transformin', 'UDP-GlcNAc:BetaGal Beta-1,3-N-Acety', 'Lysosomal Associated Membrane Prote', 'Methylcrotonyl-CoA Carboxylase Subu', 'Defective In Cullin Neddylation 1 D', 'ATPase Phospholipid Transporting 11', 'TRAF2 And NCK Interacting Kinase', 'Solute Carrier Family 2 Member 2', 'Eukaryotic Translation Initiation F', 'Ribosomal Protein L22 Like 1', 'Solute Carrier Family 7 Member 14', 'Claudin 11', 'SKI Like Proto-Oncogene', 'Protein Kinase C Iota', 'Polyhomeotic Homolog 3', 'G Protein-Coupled Receptor 160', 'SEC62 Homolog, Preprotein Transloca', 'Sterile Alpha Motif Domain Containi', 'Leucine Rich Repeat Containing 31', 'Leucine Rich Repeats And IQ Motif C', 'Leucine Rich Repeat Containing 34', 'Myoneurin', 'Actin Related Protein T3', 'Short Stature Homeobox 2', 'Ventricular Zone Expressed PH Domai', 'Pentraxin 3', 'Cyclin L1', 'Leucine, Glutamate And Lysine Rich ', 'TCDD Inducible Poly(ADP-Ribose) Pol', 'Signal Sequence Receptor Subunit 3', 'RAP2B, Member Of RAS Oncogene Famil', 'Purinergic Receptor P2Y1', 'Muscleblind Like Splicing Regulator', 'Succinate Receptor 1', 'Trefoil Factor 3', 'Trefoil Factor 2', 'Trefoil Factor 1', 'Transmembrane Serine Protease 3', 'Ubiquitin Associated And SH3 Domain', 'Radial Spoke Head Component 1', 'Solute Carrier Family 37 Member 1', 'Phosphodiesterase 9A', 'WD Repeat Domain 4', 'NADH:Ubiquinone Oxidoreductase Subu', 'PBX/Knotted 1 Homeobox 1', 'Adenosine Deaminase RNA Specific B1', 'Protein O-Fucosyltransferase 2', 'Collagen Type XVIII Alpha 1 Chain', 'Solute Carrier Family 19 Member 1', 'Poly(RC) Binding Protein 3', 'Collagen Type VI Alpha 1 Chain', 'Collagen Type VI Alpha 2 Chain', 'Formimidoyltransferase Cyclodeamina', 'Spermatogenesis And Centriole Assoc', 'Lanosterol Synthase', 'Minichromosome Maintenance Complex ', 'YbeY Metalloendoribonuclease', 'Pericentrin', 'Disco Interacting Protein 2 Homolog', 'S100 Calcium Binding Protein B', 'Protein Arginine Methyltransferase ', 'F-Box Protein 25', 'Testis Development Related Protein', 'Deleted In Azoospermia Like', 'Phospholipase C Like 2', 'TBC1 Domain Family Member 5', 'SATB Homeobox 1', 'Potassium Voltage-Gated Channel Sub']\n"
     ]
    }
   ],
   "source": [
    "# Como el paso anterior creamos una nueva columna en la cual se alamacenara el la descripcion del gen\n",
    "cat_NM=[]\n",
    "for i in range(0,145):\n",
    "    requ = Request(urls_1[i], headers={'User-Agent': 'Mozilla/5.0'})\n",
    "    subpage = urlopen(requ).read()\n",
    "    pagesoup=soup(subpage, \"html.parser\")\n",
    "    resl = pagesoup.find(\"div\",{\"class\":\"col-xs-8 col-sm-7 gene-symbol-description\"}).h2.text[0:35]\n",
    "    cat_NM.append(resl)\n",
    "print(cat_NM)"
   ]
  },
  {
   "cell_type": "code",
   "execution_count": 13,
   "id": "c4c2deb1",
   "metadata": {},
   "outputs": [
    {
     "name": "stdout",
     "output_type": "stream",
     "text": [
      "['na', 'na', 'na', 'na', 'na', 'Potassium Voltage-Gated Channel Sub', 'Potassium Voltage-Gated Channel Sub', 'Potassium Voltage-Gated Channel Sub', 'Potassium Voltage-Gated Channel Sub', 'na', 'Potassium Voltage-Gated Channel Sub', 'Potassium Voltage-Gated Channel Sub', 'na', 'na', 'Potassium Voltage-Gated Channel Sub', 'na', 'Potassium Voltage-Gated Channel Sub', 'Potassium Voltage-Gated Channel Sub', 'Potassium Voltage-Gated Channel Sub', 'Potassium Voltage-Gated Channel Sub', 'Potassium Voltage-Gated Channel Sub', 'Potassium Voltage-Gated Channel Sub', 'Potassium Voltage-Gated Channel Sub', 'Potassium Voltage-Gated Channel Sub', 'Potassium Voltage-Gated Channel Sub', 'Potassium Voltage-Gated Channel Sub', 'Potassium Voltage-Gated Channel Sub', 'Potassium Voltage-Gated Channel Sub', 'Potassium Voltage-Gated Channel Sub', 'Potassium Voltage-Gated Channel Sub', 'Potassium Voltage-Gated Channel Sub', 'Potassium Voltage-Gated Channel Sub', 'na', 'Potassium Voltage-Gated Channel Sub', 'Potassium Voltage-Gated Channel Sub', 'na', 'na', 'Potassium Voltage-Gated Channel Sub', 'Potassium Voltage-Gated Channel Sub', 'Potassium Voltage-Gated Channel Sub', 'Potassium Voltage-Gated Channel Sub', 'na', 'Potassium Voltage-Gated Channel Sub', 'Potassium Voltage-Gated Channel Sub', 'Potassium Voltage-Gated Channel Sub', 'Potassium Voltage-Gated Channel Sub', 'na', 'Potassium Voltage-Gated Channel Sub', 'Potassium Voltage-Gated Channel Sub', 'Potassium Voltage-Gated Channel Sub', 'na', 'Potassium Voltage-Gated Channel Sub', 'Potassium Voltage-Gated Channel Sub', 'Potassium Voltage-Gated Channel Sub', 'Potassium Voltage-Gated Channel Sub', 'na', 'Potassium Voltage-Gated Channel Sub', 'Potassium Voltage-Gated Channel Sub', 'na', 'Potassium Voltage-Gated Channel Sub', 'na', 'Potassium Voltage-Gated Channel Sub', 'Potassium Voltage-Gated Channel Sub', 'Potassium Voltage-Gated Channel Sub', 'Potassium Voltage-Gated Channel Sub', 'Potassium Voltage-Gated Channel Sub', 'Potassium Voltage-Gated Channel Sub', 'Potassium Voltage-Gated Channel Sub', 'Potassium Voltage-Gated Channel Sub', 'na', 'Potassium Voltage-Gated Channel Sub', 'Potassium Voltage-Gated Channel Sub', 'Potassium Voltage-Gated Channel Sub', 'Potassium Voltage-Gated Channel Sub', 'Potassium Voltage-Gated Channel Sub', 'na', 'na', 'na', 'Potassium Voltage-Gated Channel Sub', 'Potassium Voltage-Gated Channel Sub', 'Potassium Voltage-Gated Channel Sub', 'Potassium Voltage-Gated Channel Sub', 'na', 'Potassium Voltage-Gated Channel Sub', 'Potassium Voltage-Gated Channel Sub', 'Potassium Voltage-Gated Channel Sub', 'Potassium Voltage-Gated Channel Sub', 'Potassium Voltage-Gated Channel Sub', 'Potassium Voltage-Gated Channel Sub', 'Potassium Voltage-Gated Channel Sub', 'Potassium Voltage-Gated Channel Sub', 'Potassium Voltage-Gated Channel Sub', 'Potassium Voltage-Gated Channel Sub', 'Potassium Voltage-Gated Channel Sub', 'na', 'na', 'na', 'na', 'na', 'Potassium Voltage-Gated Channel Sub', 'na', 'Potassium Voltage-Gated Channel Sub', 'Potassium Voltage-Gated Channel Sub', 'Potassium Voltage-Gated Channel Sub', 'na', 'Potassium Voltage-Gated Channel Sub', 'na', 'Potassium Voltage-Gated Channel Sub', 'na', 'Potassium Voltage-Gated Channel Sub', 'na', 'na', 'Potassium Voltage-Gated Channel Sub', 'na', 'Potassium Voltage-Gated Channel Sub', 'Potassium Voltage-Gated Channel Sub', 'Potassium Voltage-Gated Channel Sub', 'Potassium Voltage-Gated Channel Sub', 'na', 'na', 'Potassium Voltage-Gated Channel Sub', 'Potassium Voltage-Gated Channel Sub', 'na', 'Potassium Voltage-Gated Channel Sub', 'Potassium Voltage-Gated Channel Sub', 'Potassium Voltage-Gated Channel Sub', 'Potassium Voltage-Gated Channel Sub', 'Potassium Voltage-Gated Channel Sub', 'Potassium Voltage-Gated Channel Sub', 'Potassium Voltage-Gated Channel Sub', 'na', 'Potassium Voltage-Gated Channel Sub', 'na', 'na', 'Potassium Voltage-Gated Channel Sub', 'Potassium Voltage-Gated Channel Sub', 'Potassium Voltage-Gated Channel Sub', 'Potassium Voltage-Gated Channel Sub', 'na', 'Potassium Voltage-Gated Channel Sub', 'Potassium Voltage-Gated Channel Sub', 'Potassium Voltage-Gated Channel Sub', 'na', 'na', 'na', 'Potassium Voltage-Gated Channel Sub', 'Potassium Voltage-Gated Channel Sub', 'na', 'Potassium Voltage-Gated Channel Sub', 'na', 'Potassium Voltage-Gated Channel Sub', 'na', 'Potassium Voltage-Gated Channel Sub', 'Potassium Voltage-Gated Channel Sub', 'na', 'Potassium Voltage-Gated Channel Sub', 'na', 'na', 'Potassium Voltage-Gated Channel Sub', 'Potassium Voltage-Gated Channel Sub', 'na', 'Potassium Voltage-Gated Channel Sub', 'na', 'Potassium Voltage-Gated Channel Sub', 'na', 'na', 'na', 'na', 'na', 'na', 'na', 'na', 'Potassium Voltage-Gated Channel Sub', 'Potassium Voltage-Gated Channel Sub', 'Potassium Voltage-Gated Channel Sub', 'Potassium Voltage-Gated Channel Sub', 'Potassium Voltage-Gated Channel Sub', 'Potassium Voltage-Gated Channel Sub', 'Potassium Voltage-Gated Channel Sub', 'Potassium Voltage-Gated Channel Sub', 'Potassium Voltage-Gated Channel Sub', 'Potassium Voltage-Gated Channel Sub', 'Potassium Voltage-Gated Channel Sub', 'Potassium Voltage-Gated Channel Sub', 'Potassium Voltage-Gated Channel Sub', 'Potassium Voltage-Gated Channel Sub', 'Potassium Voltage-Gated Channel Sub', 'Potassium Voltage-Gated Channel Sub', 'na', 'Potassium Voltage-Gated Channel Sub', 'Potassium Voltage-Gated Channel Sub', 'Potassium Voltage-Gated Channel Sub', 'Potassium Voltage-Gated Channel Sub', 'Potassium Voltage-Gated Channel Sub', 'Potassium Voltage-Gated Channel Sub', 'Potassium Voltage-Gated Channel Sub', 'na', 'Potassium Voltage-Gated Channel Sub', 'na', 'na', 'Potassium Voltage-Gated Channel Sub', 'Potassium Voltage-Gated Channel Sub', 'Potassium Voltage-Gated Channel Sub', 'Potassium Voltage-Gated Channel Sub', 'Potassium Voltage-Gated Channel Sub', 'na', 'Potassium Voltage-Gated Channel Sub', 'Potassium Voltage-Gated Channel Sub', 'Potassium Voltage-Gated Channel Sub', 'na', 'Potassium Voltage-Gated Channel Sub', 'Potassium Voltage-Gated Channel Sub']\n"
     ]
    }
   ],
   "source": [
    "# De la misma forma si los valores son diferentes a \"na\" entonces se le agregara los datos de la lista anterior\n",
    "for i in range(len(Name_of_the_gene)):\n",
    "    if Name_of_the_gene[i]!=\"na\":\n",
    "        for j in range(len(cat_NM)):\n",
    "            Name_of_the_gene[i]=cat_NM[j]\n",
    "print(Name_of_the_gene) "
   ]
  },
  {
   "cell_type": "code",
   "execution_count": 14,
   "id": "48e975ca",
   "metadata": {},
   "outputs": [
    {
     "name": "stdout",
     "output_type": "stream",
     "text": [
      "['No results', 'No results', 'No results', 'No results', 'No results', 'Showing 25', 'Showing 25', 'Showing 25', 'Showing 25', 'No results', 'Showing 25', 'Showing 25', 'No results', 'No results', 'Showing 25', 'No results', 'Showing 25', 'Showing 25', 'Showing 25', 'Showing 25', 'Showing 25', 'Showing 25', 'Showing 25', 'Showing 25', 'No results', 'Showing 25', 'Showing 25', 'Showing 25', 'Showing 25', 'Showing 25', 'Showing 25', 'Showing 25', 'No results', 'Showing 25', 'Showing 25', 'No results', 'No results', 'Showing 25', 'Showing 25', 'Showing 25', 'Showing 25', 'No results', 'Showing 25', 'Showing 25', 'Showing 25', 'Showing 25', 'No results', 'Showing 25', 'Showing 25', 'Showing 25', 'No results', 'No results', 'Showing 25', 'Showing 25', 'Showing 25', 'No results', 'Showing 25', 'Showing 25', 'No results', 'Showing 25', 'No results', 'Showing 25', 'Showing 25', 'Showing 25', 'Showing 25', 'Showing 25', 'Showing 25', 'Showing 25', 'Showing 25', 'No results', 'Showing 25', 'Showing 25', 'Showing 25', 'Showing 25', 'Showing 25', 'No results', 'No results', 'No results', 'Showing 25', 'Showing 25', 'Showing 25', 'Showing 25', 'No results', 'Showing 25', 'Showing 25', 'Showing 25', 'Showing 25', 'Showing 25', 'Showing 25', 'Showing 25', 'Showing 25', 'Showing 25', 'Showing 25', 'Showing 25', 'No results', 'No results', 'No results', 'No results', 'No results', 'Showing 25', 'No results', 'Showing 25', 'Showing 25', 'Showing 25', 'No results', 'Showing 25', 'No results', 'Showing 25', 'No results', 'Showing 25', 'No results', 'No results', 'Showing 25', 'No results', 'Showing 25', 'Showing 25', 'Showing 25', 'Showing 25', 'No results', 'No results', 'Showing 25', 'Showing 25', 'No results', 'Showing 25', 'Showing 25', 'Showing 25', 'Showing 25', 'Showing 25', 'Showing 25', 'Showing 25', 'No results', 'Showing 25', 'No results', 'No results', 'Showing 25', 'Showing 25', 'Showing 25', 'Showing 25', 'No results', 'Showing 25', 'Showing 25', 'Showing 25', 'No results', 'No results', 'No results', 'Showing 25', 'Showing 25', 'No results', 'Showing 25', 'No results', 'Showing 25', 'No results', 'Showing 25', 'Showing 25', 'No results', 'Showing 25', 'No results', 'No results', 'Showing 25', 'Showing 25', 'No results', 'Showing 25', 'No results', 'Showing 25', 'No results', 'No results', 'No results', 'No results', 'No results', 'No results', 'No results', 'No results', 'Showing 25', 'Showing 25', 'Showing 25', 'Showing 25', 'Showing 25', 'Showing 25', 'Showing 25', 'Showing 25', 'Showing 25', 'Showing 25', 'Showing 25', 'Showing 25', 'Showing 25', 'Showing 25', 'Showing 25', 'Showing 25', 'No results', 'Showing 25', 'Showing 25', 'Showing 25', 'Showing 25', 'Showing 25', 'Showing 25', 'Showing 25', 'No results', 'Showing 25', 'No results', 'No results', 'Showing 25', 'Showing 25', 'Showing 25', 'Showing 25', 'Showing 25', 'No results', 'Showing 25', 'Showing 25', 'Showing 25', 'No results', 'Showing 25', 'Showing 25']\n"
     ]
    }
   ],
   "source": [
    "# Nos dimos cuenta que no todos los links tienen una imagen para sacar los datos que se necesitan, es por ello \n",
    "# que filtramos a los datos que no contienen informacion de la imagen y nos quedamos con los datos que solo presentan imagen\n",
    "for i in range(0,145):\n",
    "    requ = Request(urls_1[i], headers={'User-Agent': 'Mozilla/5.0'})\n",
    "    subpage = urlopen(requ).read()\n",
    "    pagesoup=soup(subpage, \"html.parser\")\n",
    "    resl = pagesoup.find(\"div\",{\"class\":\"main-img\"})\n",
    "    if resl==None:\n",
    "        B[A[i]]=\"No results\"\n",
    "print(B)"
   ]
  },
  {
   "cell_type": "code",
   "execution_count": 15,
   "id": "ed8ee6f1",
   "metadata": {},
   "outputs": [
    {
     "name": "stdout",
     "output_type": "stream",
     "text": [
      "No results\n"
     ]
    }
   ],
   "source": [
    "# Esto solo afecta a las ultima tres columnas asi que solo las modificaremos a ellas asignandoles los nuevos valores \"na\"\n",
    "RNASeq=[' ']*212\n",
    "Microarray=[' ']*212\n",
    "SAGE=[' ']*212\n",
    "\n",
    "for i in range(len(B)):\n",
    "    if str(B[i]) == \"No results\":\n",
    "        RNASeq[i]=\"na\"\n",
    "        Microarray[i]=\"na\"\n",
    "        SAGE[i]=\"na\"\n",
    "print(B[A[15]])"
   ]
  },
  {
   "cell_type": "code",
   "execution_count": 16,
   "id": "c33934d2",
   "metadata": {},
   "outputs": [
    {
     "name": "stdout",
     "output_type": "stream",
     "text": [
      "[5, 6, 7, 8, 10, 11, 14, 16, 17, 18, 19, 20, 21, 22, 23, 25, 26, 27, 28, 29, 30, 31, 33, 34, 37, 38, 39, 40, 42, 43, 44, 45, 47, 48, 49, 52, 53, 54, 56, 57, 59, 61, 62, 63, 64, 65, 66, 67, 68, 70, 71, 72, 73, 74, 78, 79, 80, 81, 83, 84, 85, 86, 87, 88, 89, 90, 91, 92, 93, 99, 101, 102, 103, 105, 107, 109, 112, 114, 115, 116, 117, 120, 121, 123, 124, 125, 126, 127, 128, 129, 131, 134, 135, 136, 137, 139, 140, 141, 145, 146, 148, 150, 152, 153, 155, 158, 159, 161, 163, 172, 173, 174, 175, 176, 177, 178, 179, 180, 181, 182, 183, 184, 185, 186, 187, 189, 190, 191, 192, 193, 194, 195, 197, 200, 201, 202, 203, 204, 206, 207, 208, 210, 211]\n"
     ]
    }
   ],
   "source": [
    "# Actualizamos la lista de indices\n",
    "A=[]\n",
    "for i in range(len(B)):\n",
    "    if RNASeq[i]!=\"na\":\n",
    "        A.append(i)\n",
    "print(A)"
   ]
  },
  {
   "cell_type": "code",
   "execution_count": 17,
   "id": "c758fca2",
   "metadata": {},
   "outputs": [
    {
     "name": "stdout",
     "output_type": "stream",
     "text": [
      "https://www.genecards.org/cgi-bin/carddisp.pl?gene=MUC20&keywords=MUC20#expression\n"
     ]
    }
   ],
   "source": [
    "# Actualizamos los links que poseen la imagen con la informacion\n",
    "urls_1=[]\n",
    "for i in A:\n",
    "       urls_1.append(\"https://www.genecards.org/cgi-bin/carddisp.pl?gene=\"+L[i]+\"&keywords=\"+L[i]+\"#expression\")\n",
    "print(urls_1[15])"
   ]
  },
  {
   "cell_type": "code",
   "execution_count": null,
   "id": "36a476c6",
   "metadata": {},
   "outputs": [],
   "source": []
  },
  {
   "cell_type": "code",
   "execution_count": null,
   "id": "f8dbf347",
   "metadata": {},
   "outputs": [],
   "source": []
  },
  {
   "cell_type": "code",
   "execution_count": null,
   "id": "57c1881b",
   "metadata": {},
   "outputs": [],
   "source": []
  },
  {
   "cell_type": "code",
   "execution_count": null,
   "id": "006663ec",
   "metadata": {},
   "outputs": [],
   "source": []
  },
  {
   "cell_type": "code",
   "execution_count": null,
   "id": "32d27416",
   "metadata": {},
   "outputs": [],
   "source": []
  },
  {
   "cell_type": "code",
   "execution_count": null,
   "id": "494e9c77",
   "metadata": {},
   "outputs": [],
   "source": []
  }
 ],
 "metadata": {
  "kernelspec": {
   "display_name": "Python 3",
   "language": "python",
   "name": "python3"
  },
  "language_info": {
   "codemirror_mode": {
    "name": "ipython",
    "version": 3
   },
   "file_extension": ".py",
   "mimetype": "text/x-python",
   "name": "python",
   "nbconvert_exporter": "python",
   "pygments_lexer": "ipython3",
   "version": "3.8.8"
  }
 },
 "nbformat": 4,
 "nbformat_minor": 5
}
