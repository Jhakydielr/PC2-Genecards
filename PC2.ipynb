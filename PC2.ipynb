{
 "cells": [
  {
   "cell_type": "markdown",
   "metadata": {},
   "source": [
    "### Librerias "
   ]
  },
  {
   "cell_type": "code",
   "execution_count": 74,
   "metadata": {},
   "outputs": [],
   "source": [
    "import pandas as pd\n",
    "import numpy as np\n",
    "import matplotlib.pyplot as ptl\n",
    "import seaborn as sns\n",
    "from urllib.request import urlopen\n",
    "from bs4 import BeautifulSoup as soup\n",
    "import requests\n",
    "import urllib.request, urllib.parse, urllib.error\n",
    "import re\n",
    "from urllib.request import Request, urlopen\n",
    "from selenium import webdriver\n",
    "from selenium.webdriver.support.ui import WebDriverWait\n",
    "from selenium.webdriver.support import expected_conditions as EC\n",
    "from selenium.webdriver.common.by import By\n",
    "from selenium.common.exceptions import NoSuchElementException\n",
    "import time\n"
   ]
  },
  {
   "cell_type": "markdown",
   "metadata": {},
   "source": [
    "### Extrayendo el nombre de los genes\n"
   ]
  },
  {
   "cell_type": "code",
   "execution_count": 89,
   "metadata": {
    "scrolled": true
   },
   "outputs": [
    {
     "name": "stdout",
     "output_type": "stream",
     "text": [
      "['TRNAS-GGA', 'LOC102173449', 'LOC102169333', 'LOC108636757', 'LOC102187712', 'VGLL3', 'CHMP2B', 'POU1F1', 'HTR1F', 'LOC102188976', 'CGGBP1', 'ZNF654', 'C1H3orf38', 'LOC102190548', 'SLC12A8', 'LOC106502043', 'ZNF148', 'SNX4', 'OSBPL11', 'LMLN', 'RPL35A', 'IQCG', 'LRCH3', 'FYTTD1', 'RUBCN', 'MUC20', 'MUC4', 'TNK2', 'TFRC', 'ZDHHC19', 'SLC51A', 'PCYT1A', 'TCTEX1D2', 'TM4SF19', 'UBXN7', 'LOC102173689', 'LOC106501980', 'RNF168', 'SMCO1', 'WDR53', 'FBXO45', 'LOC102175715', 'NRROS', 'CEP19', 'PIGX', 'PAK2', 'LOC108635601', 'SENP5', 'NCBP2', 'PIGZ', 'LOC102176365', 'MELTF', 'RTP2', 'SST', 'RTP4', 'LOC102171192', 'MASP1', 'RTP1', 'LOC102179137', 'ST6GAL1', 'TRNAK-UUU', 'ADIPOQ', 'RFC4', 'EIF4A2', 'MIR1248', 'KNG1', 'HRG', 'FETUB', 'AHSG', 'LOC108635832', 'DNAJB11', 'TBCCD1', 'CRYGS', 'DGKG', 'ETV5', 'LOC102179418', 'LOC108635834', 'LOC102178398', 'IGF2BP2', 'SENP2', 'POLR2H', 'CLCN2', 'LOC106502122', 'FAM131A', 'EIF4G1', 'PSMD2', 'ECE2', 'CAMK2N2', 'ALG3', 'MIR1224', 'ABCF3', 'AP2M1', 'DVL3', 'EIF2B5', 'LOC102185396', 'LOC102185870', 'LOC102183010', 'LOC108636852', 'LOC102183269', 'ABCC5', 'LOC102183549', 'PARL', 'MAP6D1', 'YEATS2', 'LOC102187268', 'KLHL24', 'LOC108636351', 'KLHL6', 'LOC102188899', 'MCF2L2', 'LOC102189625', 'LOC108635871', 'B3GNT5', 'LOC106501989', 'LAMP3', 'MCCC1', 'DCUN1D1', 'ATP11B', 'TRNAS-GGA', 'LOC106502158', 'TNIK', 'SLC2A2', 'LOC102189522', 'EIF5A2', 'RPL22L1', 'SLC7A14', 'CLDN11', 'SKIL', 'PRKCI', 'PHC3', 'LOC102179814', 'GPR160', 'LOC108636005', 'LOC102189800', 'SEC62', 'SAMD7', 'LRRC31', 'LRRIQ4', 'TRNAY-GUA', 'LRRC34', 'MYNN', 'ACTRT3', 'TRNAV-AAC', 'LOC108636013', 'LOC106502248', 'SHOX2', 'VEPH1', 'LOC102179325', 'PTX3', 'LOC108636061', 'CCNL1', 'LOC106502323', 'LEKR1', 'TIPARP', 'LOC102177566', 'SSR3', 'LOC102179240', 'LOC102179815', 'RAP2B', 'P2RY1', 'LOC106502324', 'MBNL1', 'LOC102180350', 'SUCNR1', 'LOC102189434', 'LOC102181165', 'LOC102176168', 'LOC102189713', 'LOC102179183', 'LOC102179464', 'LOC102178896', 'LOC108636081', 'TFF3', 'TFF2', 'TFF1', 'TMPRSS3', 'UBASH3A', 'RSPH1', 'SLC37A1', 'PDE9A', 'WDR4', 'NDUFV3', 'PKNOX1', 'ADARB1', 'POFUT2', 'COL18A1', 'SLC19A1', 'PCBP3', 'LOC102190823', 'COL6A1', 'COL6A2', 'FTCD', 'SPATC1L', 'LSS', 'MCM3AP', 'YBEY', 'C1H21orf58', 'PCNT', 'LOC108636576', 'LOC102169226', 'DIP2A', 'S100B', 'PRMT2', 'FBXO25', 'TDRP', 'LOC102177758', 'DAZL', 'PLCL2', 'TBC1D5', 'TRNAW-CCA', 'SATB1', 'KCNH8']\n"
     ]
    }
   ],
   "source": [
    "datos = pd.read_excel('CHGenesOrdenadosConVecinos.xlsx')\n",
    "L=[]\n",
    "L = datos.iloc[1:,0].to_list()\n",
    "print(L)"
   ]
  },
  {
   "cell_type": "code",
   "execution_count": 90,
   "metadata": {},
   "outputs": [],
   "source": [
    "#almacena las url en la lista anterior\n",
    "urls=[]\n",
    "for i in range(0,len(L)):\n",
    "       urls.append(\"https://www.genecards.org/Search/Keyword?queryString=\"+L[i])"
   ]
  },
  {
   "cell_type": "markdown",
   "metadata": {},
   "source": [
    "Si el buscador aparece que no existe ese gen en su registro (No results) lo almacenara ```headers={'User-Agent': 'Mozilla/5.0'}``` crea un bot que se puede infiltrar dentro de la url para hacer el web scraping"
   ]
  },
  {
   "cell_type": "code",
   "execution_count": 91,
   "metadata": {},
   "outputs": [
    {
     "name": "stdout",
     "output_type": "stream",
     "text": [
      "No results 0\n",
      "No results 1\n",
      "No results 2\n",
      "No results 3\n",
      "No results 4\n",
      "Showing 25 5\n",
      "Showing 25 6\n",
      "Showing 25 7\n",
      "Showing 25 8\n",
      "No results 9\n",
      "Showing 25 10\n",
      "Showing 25 11\n",
      "Showing 1  12\n",
      "No results 13\n",
      "Showing 25 14\n",
      "No results 15\n",
      "Showing 25 16\n",
      "Showing 25 17\n",
      "Showing 25 18\n",
      "Showing 25 19\n",
      "Showing 25 20\n",
      "Showing 25 21\n",
      "Showing 25 22\n",
      "Showing 25 23\n",
      "Showing 25 24\n",
      "Showing 25 25\n",
      "Showing 25 26\n",
      "Showing 25 27\n",
      "Showing 25 28\n",
      "Showing 25 29\n",
      "Showing 25 30\n",
      "Showing 25 31\n",
      "Showing 23 32\n",
      "Showing 25 33\n",
      "Showing 25 34\n",
      "No results 35\n",
      "No results 36\n",
      "Showing 25 37\n",
      "Showing 25 38\n",
      "Showing 25 39\n",
      "Showing 25 40\n",
      "No results 41\n",
      "Showing 25 42\n",
      "Showing 25 43\n",
      "Showing 25 44\n",
      "Showing 25 45\n",
      "No results 46\n",
      "Showing 25 47\n",
      "Showing 25 48\n",
      "Showing 25 49\n",
      "No results 50\n",
      "Showing 25 51\n",
      "Showing 25 52\n",
      "Showing 25 53\n",
      "Showing 25 54\n",
      "No results 55\n",
      "Showing 25 56\n",
      "Showing 25 57\n",
      "No results 58\n",
      "Showing 25 59\n",
      "No results 60\n",
      "Showing 25 61\n",
      "Showing 25 62\n",
      "Showing 25 63\n",
      "Showing 25 64\n",
      "Showing 25 65\n",
      "Showing 25 66\n",
      "Showing 25 67\n",
      "Showing 25 68\n",
      "No results 69\n",
      "Showing 25 70\n",
      "Showing 25 71\n",
      "Showing 25 72\n",
      "Showing 25 73\n",
      "Showing 25 74\n",
      "No results 75\n",
      "No results 76\n",
      "No results 77\n",
      "Showing 25 78\n",
      "Showing 25 79\n",
      "Showing 25 80\n",
      "Showing 25 81\n",
      "No results 82\n",
      "Showing 25 83\n",
      "Showing 25 84\n",
      "Showing 25 85\n",
      "Showing 25 86\n",
      "Showing 25 87\n",
      "Showing 25 88\n",
      "Showing 25 89\n",
      "Showing 25 90\n",
      "Showing 25 91\n",
      "Showing 25 92\n",
      "Showing 25 93\n",
      "No results 94\n",
      "No results 95\n",
      "No results 96\n",
      "No results 97\n",
      "No results 98\n",
      "Showing 25 99\n",
      "No results 100\n",
      "Showing 25 101\n",
      "Showing 25 102\n",
      "Showing 25 103\n",
      "No results 104\n",
      "Showing 25 105\n",
      "No results 106\n",
      "Showing 25 107\n",
      "No results 108\n",
      "Showing 25 109\n",
      "No results 110\n",
      "No results 111\n",
      "Showing 25 112\n",
      "No results 113\n",
      "Showing 25 114\n",
      "Showing 25 115\n",
      "Showing 25 116\n",
      "Showing 25 117\n",
      "No results 118\n",
      "No results 119\n",
      "Showing 25 120\n",
      "Showing 25 121\n",
      "No results 122\n",
      "Showing 25 123\n",
      "Showing 25 124\n",
      "Showing 25 125\n",
      "Showing 25 126\n",
      "Showing 25 127\n",
      "Showing 25 128\n",
      "Showing 25 129\n",
      "No results 130\n",
      "Showing 25 131\n",
      "No results 132\n",
      "No results 133\n",
      "Showing 25 134\n",
      "Showing 25 135\n",
      "Showing 25 136\n",
      "Showing 25 137\n",
      "No results 138\n",
      "Showing 25 139\n",
      "Showing 25 140\n",
      "Showing 25 141\n",
      "No results 142\n",
      "No results 143\n",
      "No results 144\n",
      "Showing 25 145\n",
      "Showing 25 146\n",
      "No results 147\n",
      "Showing 25 148\n",
      "No results 149\n",
      "Showing 25 150\n",
      "No results 151\n",
      "Showing 25 152\n",
      "Showing 25 153\n",
      "No results 154\n",
      "Showing 25 155\n",
      "No results 156\n",
      "No results 157\n",
      "Showing 25 158\n",
      "Showing 25 159\n",
      "No results 160\n",
      "Showing 25 161\n",
      "No results 162\n",
      "Showing 25 163\n",
      "No results 164\n",
      "No results 165\n",
      "No results 166\n",
      "No results 167\n",
      "No results 168\n",
      "No results 169\n",
      "No results 170\n",
      "No results 171\n",
      "Showing 25 172\n",
      "Showing 25 173\n",
      "Showing 25 174\n",
      "Showing 25 175\n",
      "Showing 25 176\n",
      "Showing 25 177\n",
      "Showing 25 178\n",
      "Showing 25 179\n",
      "Showing 25 180\n",
      "Showing 25 181\n",
      "Showing 25 182\n",
      "Showing 25 183\n",
      "Showing 25 184\n",
      "Showing 25 185\n",
      "Showing 25 186\n",
      "Showing 25 187\n",
      "No results 188\n",
      "Showing 25 189\n",
      "Showing 25 190\n",
      "Showing 25 191\n",
      "Showing 25 192\n",
      "Showing 25 193\n",
      "Showing 25 194\n",
      "Showing 25 195\n",
      "Showing 1  196\n",
      "Showing 25 197\n",
      "No results 198\n",
      "No results 199\n",
      "Showing 25 200\n",
      "Showing 25 201\n",
      "Showing 25 202\n",
      "Showing 25 203\n",
      "Showing 25 204\n",
      "No results 205\n",
      "Showing 25 206\n",
      "Showing 25 207\n",
      "Showing 25 208\n",
      "No results 209\n",
      "Showing 25 210\n",
      "Showing 25 211\n",
      "['No results', 'No results', 'No results', 'No results', 'No results', 'Showing 25', 'Showing 25', 'Showing 25', 'Showing 25', 'No results', 'Showing 25', 'Showing 25', 'Showing 1 ', 'No results', 'Showing 25', 'No results', 'Showing 25', 'Showing 25', 'Showing 25', 'Showing 25', 'Showing 25', 'Showing 25', 'Showing 25', 'Showing 25', 'Showing 25', 'Showing 25', 'Showing 25', 'Showing 25', 'Showing 25', 'Showing 25', 'Showing 25', 'Showing 25', 'Showing 23', 'Showing 25', 'Showing 25', 'No results', 'No results', 'Showing 25', 'Showing 25', 'Showing 25', 'Showing 25', 'No results', 'Showing 25', 'Showing 25', 'Showing 25', 'Showing 25', 'No results', 'Showing 25', 'Showing 25', 'Showing 25', 'No results', 'Showing 25', 'Showing 25', 'Showing 25', 'Showing 25', 'No results', 'Showing 25', 'Showing 25', 'No results', 'Showing 25', 'No results', 'Showing 25', 'Showing 25', 'Showing 25', 'Showing 25', 'Showing 25', 'Showing 25', 'Showing 25', 'Showing 25', 'No results', 'Showing 25', 'Showing 25', 'Showing 25', 'Showing 25', 'Showing 25', 'No results', 'No results', 'No results', 'Showing 25', 'Showing 25', 'Showing 25', 'Showing 25', 'No results', 'Showing 25', 'Showing 25', 'Showing 25', 'Showing 25', 'Showing 25', 'Showing 25', 'Showing 25', 'Showing 25', 'Showing 25', 'Showing 25', 'Showing 25', 'No results', 'No results', 'No results', 'No results', 'No results', 'Showing 25', 'No results', 'Showing 25', 'Showing 25', 'Showing 25', 'No results', 'Showing 25', 'No results', 'Showing 25', 'No results', 'Showing 25', 'No results', 'No results', 'Showing 25', 'No results', 'Showing 25', 'Showing 25', 'Showing 25', 'Showing 25', 'No results', 'No results', 'Showing 25', 'Showing 25', 'No results', 'Showing 25', 'Showing 25', 'Showing 25', 'Showing 25', 'Showing 25', 'Showing 25', 'Showing 25', 'No results', 'Showing 25', 'No results', 'No results', 'Showing 25', 'Showing 25', 'Showing 25', 'Showing 25', 'No results', 'Showing 25', 'Showing 25', 'Showing 25', 'No results', 'No results', 'No results', 'Showing 25', 'Showing 25', 'No results', 'Showing 25', 'No results', 'Showing 25', 'No results', 'Showing 25', 'Showing 25', 'No results', 'Showing 25', 'No results', 'No results', 'Showing 25', 'Showing 25', 'No results', 'Showing 25', 'No results', 'Showing 25', 'No results', 'No results', 'No results', 'No results', 'No results', 'No results', 'No results', 'No results', 'Showing 25', 'Showing 25', 'Showing 25', 'Showing 25', 'Showing 25', 'Showing 25', 'Showing 25', 'Showing 25', 'Showing 25', 'Showing 25', 'Showing 25', 'Showing 25', 'Showing 25', 'Showing 25', 'Showing 25', 'Showing 25', 'No results', 'Showing 25', 'Showing 25', 'Showing 25', 'Showing 25', 'Showing 25', 'Showing 25', 'Showing 25', 'Showing 1 ', 'Showing 25', 'No results', 'No results', 'Showing 25', 'Showing 25', 'Showing 25', 'Showing 25', 'Showing 25', 'No results', 'Showing 25', 'Showing 25', 'Showing 25', 'No results', 'Showing 25', 'Showing 25']\n"
     ]
    }
   ],
   "source": [
    "resl=0\n",
    "B=[]\n",
    "\n",
    "for i in range(len(urls)):\n",
    "    requ = Request(urls[i], headers={'User-Agent': 'Mozilla/5.0'})\n",
    "    subpage = urlopen(requ).read()\n",
    "    pagesoup=soup(subpage, \"html.parser\")\n",
    "    resl = pagesoup.find(\"main\",{\"class\":\"col-xs-12\"}).h1.text[0:10]\n",
    "    B.append(resl)\n",
    "    print(resl,i)\n",
    "    \n",
    "print(B)"
   ]
  },
  {
   "cell_type": "markdown",
   "metadata": {},
   "source": [
    "Creamos las variables de las cuales se pide la informacion\n"
   ]
  },
  {
   "cell_type": "code",
   "execution_count": 92,
   "metadata": {},
   "outputs": [],
   "source": [
    "Category=[' ']*212\n",
    "Name_of_the_gene=[' ']*212\n",
    "RNASeq=[' ']*212\n",
    "Microarray=[' ']*212\n",
    "SAGE=[' ']*212\n",
    "\n",
    "for i in range(len(B)):\n",
    "    if str(B[i]) == \"No results\":\n",
    "        Category[i]=\"na\"\n",
    "        Name_of_the_gene[i]=\"na\"\n",
    "        RNASeq[i]=\"na\"\n",
    "        Microarray[i]=\"na\"\n",
    "        SAGE[i]=\"na\"\n",
    "\n",
    "\n",
    "# print(Category)    \n",
    "# print(Name_of_the_gene)\n",
    "# print(RNASeq)\n",
    "# print(Microarray)\n",
    "# print(SAGE)"
   ]
  },
  {
   "cell_type": "markdown",
   "metadata": {},
   "source": [
    "Creamos una lista que contenga todos los indices de los datos que no son vacios (na)"
   ]
  },
  {
   "cell_type": "code",
   "execution_count": 93,
   "metadata": {},
   "outputs": [
    {
     "name": "stdout",
     "output_type": "stream",
     "text": [
      "[5, 6, 7, 8, 10, 11, 12, 14, 16, 17, 18, 19, 20, 21, 22, 23, 24, 25, 26, 27, 28, 29, 30, 31, 32, 33, 34, 37, 38, 39, 40, 42, 43, 44, 45, 47, 48, 49, 51, 52, 53, 54, 56, 57, 59, 61, 62, 63, 64, 65, 66, 67, 68, 70, 71, 72, 73, 74, 78, 79, 80, 81, 83, 84, 85, 86, 87, 88, 89, 90, 91, 92, 93, 99, 101, 102, 103, 105, 107, 109, 112, 114, 115, 116, 117, 120, 121, 123, 124, 125, 126, 127, 128, 129, 131, 134, 135, 136, 137, 139, 140, 141, 145, 146, 148, 150, 152, 153, 155, 158, 159, 161, 163, 172, 173, 174, 175, 176, 177, 178, 179, 180, 181, 182, 183, 184, 185, 186, 187, 189, 190, 191, 192, 193, 194, 195, 196, 197, 200, 201, 202, 203, 204, 206, 207, 208, 210, 211]\n"
     ]
    }
   ],
   "source": [
    "A=[]\n",
    "for i in range(len(B)):\n",
    "    if Category[i]!=\"na\":\n",
    "        A.append(i)\n",
    "print(A)"
   ]
  },
  {
   "cell_type": "markdown",
   "metadata": {},
   "source": [
    "Como en algunos links en vez de aparecer **\"No results\"** aparecia unas sugerencias, entonces filtramos y comparamos a la primera primera sugerencia con el nombre original, y si no guardan parecido se les pone como **\"No results\"** para evitar futuros errores"
   ]
  },
  {
   "cell_type": "code",
   "execution_count": 95,
   "metadata": {},
   "outputs": [
    {
     "name": "stdout",
     "output_type": "stream",
     "text": [
      "No results 12\n",
      "No results 32\n",
      "No results 196\n",
      "['No results', 'No results', 'No results', 'No results', 'No results', 'Showing 25', 'Showing 25', 'Showing 25', 'Showing 25', 'No results', 'Showing 25', 'Showing 25', 'No results', 'No results', 'Showing 25', 'No results', 'Showing 25', 'Showing 25', 'Showing 25', 'Showing 25', 'Showing 25', 'Showing 25', 'Showing 25', 'Showing 25', 'Showing 25', 'Showing 25', 'Showing 25', 'Showing 25', 'Showing 25', 'Showing 25', 'Showing 25', 'Showing 25', 'No results', 'Showing 25', 'Showing 25', 'No results', 'No results', 'Showing 25', 'Showing 25', 'Showing 25', 'Showing 25', 'No results', 'Showing 25', 'Showing 25', 'Showing 25', 'Showing 25', 'No results', 'Showing 25', 'Showing 25', 'Showing 25', 'No results', 'Showing 25', 'Showing 25', 'Showing 25', 'Showing 25', 'No results', 'Showing 25', 'Showing 25', 'No results', 'Showing 25', 'No results', 'Showing 25', 'Showing 25', 'Showing 25', 'Showing 25', 'Showing 25', 'Showing 25', 'Showing 25', 'Showing 25', 'No results', 'Showing 25', 'Showing 25', 'Showing 25', 'Showing 25', 'Showing 25', 'No results', 'No results', 'No results', 'Showing 25', 'Showing 25', 'Showing 25', 'Showing 25', 'No results', 'Showing 25', 'Showing 25', 'Showing 25', 'Showing 25', 'Showing 25', 'Showing 25', 'Showing 25', 'Showing 25', 'Showing 25', 'Showing 25', 'Showing 25', 'No results', 'No results', 'No results', 'No results', 'No results', 'Showing 25', 'No results', 'Showing 25', 'Showing 25', 'Showing 25', 'No results', 'Showing 25', 'No results', 'Showing 25', 'No results', 'Showing 25', 'No results', 'No results', 'Showing 25', 'No results', 'Showing 25', 'Showing 25', 'Showing 25', 'Showing 25', 'No results', 'No results', 'Showing 25', 'Showing 25', 'No results', 'Showing 25', 'Showing 25', 'Showing 25', 'Showing 25', 'Showing 25', 'Showing 25', 'Showing 25', 'No results', 'Showing 25', 'No results', 'No results', 'Showing 25', 'Showing 25', 'Showing 25', 'Showing 25', 'No results', 'Showing 25', 'Showing 25', 'Showing 25', 'No results', 'No results', 'No results', 'Showing 25', 'Showing 25', 'No results', 'Showing 25', 'No results', 'Showing 25', 'No results', 'Showing 25', 'Showing 25', 'No results', 'Showing 25', 'No results', 'No results', 'Showing 25', 'Showing 25', 'No results', 'Showing 25', 'No results', 'Showing 25', 'No results', 'No results', 'No results', 'No results', 'No results', 'No results', 'No results', 'No results', 'Showing 25', 'Showing 25', 'Showing 25', 'Showing 25', 'Showing 25', 'Showing 25', 'Showing 25', 'Showing 25', 'Showing 25', 'Showing 25', 'Showing 25', 'Showing 25', 'Showing 25', 'Showing 25', 'Showing 25', 'Showing 25', 'No results', 'Showing 25', 'Showing 25', 'Showing 25', 'Showing 25', 'Showing 25', 'Showing 25', 'Showing 25', 'No results', 'Showing 25', 'No results', 'No results', 'Showing 25', 'Showing 25', 'Showing 25', 'Showing 25', 'Showing 25', 'No results', 'Showing 25', 'Showing 25', 'Showing 25', 'No results', 'Showing 25', 'Showing 25']\n"
     ]
    }
   ],
   "source": [
    "for i in A:\n",
    "    requ = Request(urls[i], headers={'User-Agent': 'Mozilla/5.0'})\n",
    "    subpage = urlopen(requ).read()\n",
    "    pagesoup=soup(subpage, \"html.parser\")\n",
    "    res2 = pagesoup.find(\"td\",{\"class\":\"gc-gene-symbol gc-highlight symbol-col\"}).a.text[0:15]\n",
    "    if L[i]!=str(res2):\n",
    "        B[i]=\"No results\"\n",
    "        print(B[i],i)\n",
    "\n",
    "print(B)"
   ]
  },
  {
   "cell_type": "markdown",
   "metadata": {},
   "source": [
    "Añadimos nos nuevos \"na\" que hemos decubierto en las variables ya creadas\n"
   ]
  },
  {
   "cell_type": "code",
   "execution_count": 96,
   "metadata": {},
   "outputs": [],
   "source": [
    "Category=[' ']*212\n",
    "Name_of_the_gene=[' ']*212\n",
    "RNASeq=[' ']*212\n",
    "Microarray=[' ']*212\n",
    "SAGE=[' ']*212\n",
    "\n",
    "for i in range(len(B)):\n",
    "    if str(B[i]) == \"No results\":\n",
    "        Category[i]=\"na\"\n",
    "        Name_of_the_gene[i]=\"na\"\n",
    "        RNASeq[i]=\"na\"\n",
    "        Microarray[i]=\"na\"\n",
    "        SAGE[i]=\"na\"\n",
    "\n",
    "\n",
    "# print(Category)    \n",
    "# print(Name_of_the_gene)\n",
    "# print(RNASeq)\n",
    "# print(Microarray)\n",
    "# print(SAGE)"
   ]
  },
  {
   "cell_type": "markdown",
   "metadata": {},
   "source": [
    "Limpiamos los indices y con ellos solo estraemos la informacion de los datos de los cuales si se tiene registro. Siendo en este caso sus links los cuales guardan su informacion"
   ]
  },
  {
   "cell_type": "code",
   "execution_count": 98,
   "metadata": {},
   "outputs": [
    {
     "name": "stdout",
     "output_type": "stream",
     "text": [
      "145 https://www.genecards.org/cgi-bin/carddisp.pl?gene=SLC12A8&keywords=SLC12A8#expression\n"
     ]
    }
   ],
   "source": [
    "A=[]\n",
    "for i in range(len(B)):\n",
    "    if Category[i]!=\"na\":\n",
    "        A.append(i)\n",
    "        \n",
    "urls_1=[]\n",
    "for i in A:\n",
    "       urls_1.append(\"https://www.genecards.org/cgi-bin/carddisp.pl?gene=\"+L[i]+\"&keywords=\"+L[i]+\"#expression\")\n",
    "print(len(A),urls_1[6])"
   ]
  },
  {
   "cell_type": "markdown",
   "metadata": {},
   "source": [
    "Creamos una lista que nos permite alamacenar todos los valores de las categorias a las que pertenece cada gen\n"
   ]
  },
  {
   "cell_type": "code",
   "execution_count": 99,
   "metadata": {},
   "outputs": [
    {
     "name": "stdout",
     "output_type": "stream",
     "text": [
      "['(Protein Coding)', '(Protein Coding)', '(Protein Coding)', '(Protein Coding)', '(Protein Coding)', '(Protein Coding)', '(Protein Coding)', '(Protein Coding)', '(Protein Coding)', '(Protein Coding)', '(Protein Coding)', '(Protein Coding)', '(Protein Coding)', '(Protein Coding)', '(Protein Coding)', '(Protein Coding)', '(Protein Coding)', '(Protein Coding)', '(Protein Coding)', '(Protein Coding)', '(Protein Coding)', '(Protein Coding)', '(Protein Coding)', '(Protein Coding)', '(Protein Coding)', '(Protein Coding)', '(Protein Coding)', '(Protein Coding)', '(Protein Coding)', '(Protein Coding)', '(Protein Coding)', '(Protein Coding)', '(Protein Coding)', '(Protein Coding)', '(Protein Coding)', '(Protein Coding)', '(Protein Coding)', '(Protein Coding)', '(Protein Coding)', '(Protein Coding)', '(Protein Coding)', '(Protein Coding)', '(Protein Coding)', '(Protein Coding)', '(Protein Coding)', '(Protein Coding)', '(RNA Gene)', '(Protein Coding)', '(Protein Coding)', '(Protein Coding)', '(Protein Coding)', '(Protein Coding)', '(Protein Coding)', '(Protein Coding)', '(Protein Coding)', '(Protein Coding)', '(Protein Coding)', '(Protein Coding)', '(Protein Coding)', '(Protein Coding)', '(Protein Coding)', '(Protein Coding)', '(Protein Coding)', '(Protein Coding)', '(Protein Coding)', '(Protein Coding)', '(RNA Gene)', '(Protein Coding)', '(Protein Coding)', '(Protein Coding)', '(Protein Coding)', '(Protein Coding)', '(Protein Coding)', '(Protein Coding)', '(Protein Coding)', '(Protein Coding)', '(Protein Coding)', '(Protein Coding)', '(Protein Coding)', '(Protein Coding)', '(Protein Coding)', '(Protein Coding)', '(Protein Coding)', '(Protein Coding)', '(Protein Coding)', '(Protein Coding)', '(Protein Coding)', '(Protein Coding)', '(Protein Coding)', '(Protein Coding)', '(Protein Coding)', '(Protein Coding)', '(Protein Coding)', '(Protein Coding)', '(Protein Coding)', '(Protein Coding)', '(Protein Coding)', '(Protein Coding)', '(Protein Coding)', '(Protein Coding)', '(Protein Coding)', '(Protein Coding)', '(Protein Coding)', '(Protein Coding)', '(Protein Coding)', '(Protein Coding)', '(Protein Coding)', '(Protein Coding)', '(Protein Coding)', '(Protein Coding)', '(Protein Coding)', '(Protein Coding)', '(Protein Coding)', '(Protein Coding)', '(Protein Coding)', '(Protein Coding)', '(Protein Coding)', '(Protein Coding)', '(Protein Coding)', '(Protein Coding)', '(Protein Coding)', '(Protein Coding)', '(Protein Coding)', '(Protein Coding)', '(Protein Coding)', '(Protein Coding)', '(Protein Coding)', '(Protein Coding)', '(Protein Coding)', '(Protein Coding)', '(Protein Coding)', '(Protein Coding)', '(Protein Coding)', '(Protein Coding)', '(Protein Coding)', '(Protein Coding)', '(Protein Coding)', '(Protein Coding)', '(Protein Coding)', '(Protein Coding)', '(Protein Coding)', '(Protein Coding)', '(Protein Coding)', '(Protein Coding)', '(Protein Coding)']\n"
     ]
    }
   ],
   "source": [
    "cat_ll=[]\n",
    "for i in range(0,145):\n",
    "    requ = Request(urls_1[i], headers={'User-Agent': 'Mozilla/5.0'})\n",
    "    subpage = urlopen(requ).read()\n",
    "    pagesoup=soup(subpage, \"html.parser\")\n",
    "    resl = pagesoup.find(\"span\",{\"class\":\"keep-together\"}).span.text[0:16]\n",
    "    cat_ll.append(resl)\n",
    "    \n",
    "print(cat_ll)  "
   ]
  },
  {
   "cell_type": "markdown",
   "metadata": {},
   "source": [
    "Aqui si es que la variable categoria es diferente a \"na\" entonces agregara a la categoria estraida siendo asi que quedaran en su respectivo orden"
   ]
  },
  {
   "cell_type": "code",
   "execution_count": 100,
   "metadata": {},
   "outputs": [
    {
     "name": "stdout",
     "output_type": "stream",
     "text": [
      "['na', 'na', 'na', 'na', 'na', '(Protein Coding)', '(Protein Coding)', '(Protein Coding)', '(Protein Coding)', 'na', '(Protein Coding)', '(Protein Coding)', 'na', 'na', '(Protein Coding)', 'na', '(Protein Coding)', '(Protein Coding)', '(Protein Coding)', '(Protein Coding)', '(Protein Coding)', '(Protein Coding)', '(Protein Coding)', '(Protein Coding)', '(Protein Coding)', '(Protein Coding)', '(Protein Coding)', '(Protein Coding)', '(Protein Coding)', '(Protein Coding)', '(Protein Coding)', '(Protein Coding)', 'na', '(Protein Coding)', '(Protein Coding)', 'na', 'na', '(Protein Coding)', '(Protein Coding)', '(Protein Coding)', '(Protein Coding)', 'na', '(Protein Coding)', '(Protein Coding)', '(Protein Coding)', '(Protein Coding)', 'na', '(Protein Coding)', '(Protein Coding)', '(Protein Coding)', 'na', '(Protein Coding)', '(Protein Coding)', '(Protein Coding)', '(Protein Coding)', 'na', '(Protein Coding)', '(Protein Coding)', 'na', '(Protein Coding)', 'na', '(Protein Coding)', '(Protein Coding)', '(Protein Coding)', '(RNA Gene)', '(Protein Coding)', '(Protein Coding)', '(Protein Coding)', '(Protein Coding)', 'na', '(Protein Coding)', '(Protein Coding)', '(Protein Coding)', '(Protein Coding)', '(Protein Coding)', 'na', 'na', 'na', '(Protein Coding)', '(Protein Coding)', '(Protein Coding)', '(Protein Coding)', 'na', '(Protein Coding)', '(Protein Coding)', '(Protein Coding)', '(Protein Coding)', '(Protein Coding)', '(Protein Coding)', '(RNA Gene)', '(Protein Coding)', '(Protein Coding)', '(Protein Coding)', '(Protein Coding)', 'na', 'na', 'na', 'na', 'na', '(Protein Coding)', 'na', '(Protein Coding)', '(Protein Coding)', '(Protein Coding)', 'na', '(Protein Coding)', 'na', '(Protein Coding)', 'na', '(Protein Coding)', 'na', 'na', '(Protein Coding)', 'na', '(Protein Coding)', '(Protein Coding)', '(Protein Coding)', '(Protein Coding)', 'na', 'na', '(Protein Coding)', '(Protein Coding)', 'na', '(Protein Coding)', '(Protein Coding)', '(Protein Coding)', '(Protein Coding)', '(Protein Coding)', '(Protein Coding)', '(Protein Coding)', 'na', '(Protein Coding)', 'na', 'na', '(Protein Coding)', '(Protein Coding)', '(Protein Coding)', '(Protein Coding)', 'na', '(Protein Coding)', '(Protein Coding)', '(Protein Coding)', 'na', 'na', 'na', '(Protein Coding)', '(Protein Coding)', 'na', '(Protein Coding)', 'na', '(Protein Coding)', 'na', '(Protein Coding)', '(Protein Coding)', 'na', '(Protein Coding)', 'na', 'na', '(Protein Coding)', '(Protein Coding)', 'na', '(Protein Coding)', 'na', '(Protein Coding)', 'na', 'na', 'na', 'na', 'na', 'na', 'na', 'na', '(Protein Coding)', '(Protein Coding)', '(Protein Coding)', '(Protein Coding)', '(Protein Coding)', '(Protein Coding)', '(Protein Coding)', '(Protein Coding)', '(Protein Coding)', '(Protein Coding)', '(Protein Coding)', '(Protein Coding)', '(Protein Coding)', '(Protein Coding)', '(Protein Coding)', '(Protein Coding)', 'na', '(Protein Coding)', '(Protein Coding)', '(Protein Coding)', '(Protein Coding)', '(Protein Coding)', '(Protein Coding)', '(Protein Coding)', 'na', '(Protein Coding)', 'na', 'na', '(Protein Coding)', '(Protein Coding)', '(Protein Coding)', '(Protein Coding)', '(Protein Coding)', 'na', '(Protein Coding)', '(Protein Coding)', '(Protein Coding)', 'na', '(Protein Coding)', '(Protein Coding)']\n"
     ]
    }
   ],
   "source": [
    "x = 0\n",
    "for i in range(len(Category)):\n",
    "    if Category[i]!=\"na\":\n",
    "            Category[i]=cat_ll[x]\n",
    "            x = x + 1\n",
    "    else:\n",
    "        Category[i]='na'\n",
    "print(Category)"
   ]
  },
  {
   "cell_type": "markdown",
   "metadata": {},
   "source": [
    "Como el paso anterior creamos una nueva columna en la cual se alamacenara el la descripcion del gen"
   ]
  },
  {
   "cell_type": "code",
   "execution_count": 101,
   "metadata": {},
   "outputs": [
    {
     "name": "stdout",
     "output_type": "stream",
     "text": [
      "['Vestigial Like Family Member 3', 'Charged Multivesicular Body Protein', 'POU Class 1 Homeobox 1', '5-Hydroxytryptamine Receptor 1F', 'CGG Triplet Repeat Binding Protein ', 'Zinc Finger Protein 654', 'Solute Carrier Family 12 Member 8', 'Zinc Finger Protein 148', 'Sorting Nexin 4', 'Oxysterol Binding Protein Like 11', 'Leishmanolysin Like Peptidase', 'Ribosomal Protein L35a', 'IQ Motif Containing G', 'Leucine Rich Repeats And Calponin H', 'Forty-Two-Three Domain Containing 1', 'Rubicon Autophagy Regulator', 'Mucin 20, Cell Surface Associated', 'Mucin 4, Cell Surface Associated', 'Tyrosine Kinase Non Receptor 2', 'Transferrin Receptor', 'Zinc Finger DHHC-Type Palmitoyltran', 'Solute Carrier Family 51 Subunit Al', 'Phosphate Cytidylyltransferase 1A, ', 'Transmembrane 4 L Six Family Member', 'UBX Domain Protein 7', 'Ring Finger Protein 168', 'Single-Pass Membrane Protein With C', 'WD Repeat Domain 53', 'F-Box Protein 45', 'Negative Regulator Of Reactive Oxyg', 'Centrosomal Protein 19', 'Phosphatidylinositol Glycan Anchor ', 'P21 (RAC1) Activated Kinase 2', 'SUMO Specific Peptidase 5', 'Nuclear Cap Binding Protein Subunit', 'Phosphatidylinositol Glycan Anchor ', 'Melanotransferrin', 'Receptor Transporter Protein 2', 'Somatostatin', 'Receptor Transporter Protein 4', 'MBL Associated Serine Protease 1', 'Receptor Transporter Protein 1', 'ST6 Beta-Galactoside Alpha-2,6-Sial', 'Adiponectin, C1Q And Collagen Domai', 'Replication Factor C Subunit 4', 'Eukaryotic Translation Initiation F', 'MicroRNA 1248', 'Kininogen 1', 'Histidine Rich Glycoprotein', 'Fetuin B', 'Alpha 2-HS Glycoprotein', 'DnaJ Heat Shock Protein Family (Hsp', 'TBCC Domain Containing 1', 'Crystallin Gamma S', 'Diacylglycerol Kinase Gamma', 'ETS Variant Transcription Factor 5', 'Insulin Like Growth Factor 2 MRNA B', 'SUMO Specific Peptidase 2', 'RNA Polymerase II, I And III Subuni', 'Chloride Voltage-Gated Channel 2', 'Family With Sequence Similarity 131', 'Eukaryotic Translation Initiation F', 'Proteasome 26S Subunit Ubiquitin Re', 'Endothelin Converting Enzyme 2', 'Calcium/Calmodulin Dependent Protei', 'ALG3 Alpha-1,3- Mannosyltransferase', 'MicroRNA 1224', 'ATP Binding Cassette Subfamily F Me', 'Adaptor Related Protein Complex 2 S', 'Dishevelled Segment Polarity Protei', 'Eukaryotic Translation Initiation F', 'ATP Binding Cassette Subfamily C Me', 'Presenilin Associated Rhomboid Like', 'MAP6 Domain Containing 1', 'YEATS Domain Containing 2', 'Kelch Like Family Member 24', 'Kelch Like Family Member 6', 'MCF.2 Cell Line Derived Transformin', 'UDP-GlcNAc:BetaGal Beta-1,3-N-Acety', 'Lysosomal Associated Membrane Prote', 'Methylcrotonyl-CoA Carboxylase Subu', 'Defective In Cullin Neddylation 1 D', 'ATPase Phospholipid Transporting 11', 'TRAF2 And NCK Interacting Kinase', 'Solute Carrier Family 2 Member 2', 'Eukaryotic Translation Initiation F', 'Ribosomal Protein L22 Like 1', 'Solute Carrier Family 7 Member 14', 'Claudin 11', 'SKI Like Proto-Oncogene', 'Protein Kinase C Iota', 'Polyhomeotic Homolog 3', 'G Protein-Coupled Receptor 160', 'SEC62 Homolog, Preprotein Transloca', 'Sterile Alpha Motif Domain Containi', 'Leucine Rich Repeat Containing 31', 'Leucine Rich Repeats And IQ Motif C', 'Leucine Rich Repeat Containing 34', 'Myoneurin', 'Actin Related Protein T3', 'Short Stature Homeobox 2', 'Ventricular Zone Expressed PH Domai', 'Pentraxin 3', 'Cyclin L1', 'Leucine, Glutamate And Lysine Rich ', 'TCDD Inducible Poly(ADP-Ribose) Pol', 'Signal Sequence Receptor Subunit 3', 'RAP2B, Member Of RAS Oncogene Famil', 'Purinergic Receptor P2Y1', 'Muscleblind Like Splicing Regulator', 'Succinate Receptor 1', 'Trefoil Factor 3', 'Trefoil Factor 2', 'Trefoil Factor 1', 'Transmembrane Serine Protease 3', 'Ubiquitin Associated And SH3 Domain', 'Radial Spoke Head Component 1', 'Solute Carrier Family 37 Member 1', 'Phosphodiesterase 9A', 'WD Repeat Domain 4', 'NADH:Ubiquinone Oxidoreductase Subu', 'PBX/Knotted 1 Homeobox 1', 'Adenosine Deaminase RNA Specific B1', 'Protein O-Fucosyltransferase 2', 'Collagen Type XVIII Alpha 1 Chain', 'Solute Carrier Family 19 Member 1', 'Poly(RC) Binding Protein 3', 'Collagen Type VI Alpha 1 Chain', 'Collagen Type VI Alpha 2 Chain', 'Formimidoyltransferase Cyclodeamina', 'Spermatogenesis And Centriole Assoc', 'Lanosterol Synthase', 'Minichromosome Maintenance Complex ', 'YbeY Metalloendoribonuclease', 'Pericentrin', 'Disco Interacting Protein 2 Homolog', 'S100 Calcium Binding Protein B', 'Protein Arginine Methyltransferase ', 'F-Box Protein 25', 'Testis Development Related Protein', 'Deleted In Azoospermia Like', 'Phospholipase C Like 2', 'TBC1 Domain Family Member 5', 'SATB Homeobox 1', 'Potassium Voltage-Gated Channel Sub']\n"
     ]
    }
   ],
   "source": [
    "cat_NM=[]\n",
    "for i in range(0,145):\n",
    "    requ = Request(urls_1[i], headers={'User-Agent': 'Mozilla/5.0'})\n",
    "    subpage = urlopen(requ).read()\n",
    "    pagesoup=soup(subpage, \"html.parser\")\n",
    "    resl = pagesoup.find(\"div\",{\"class\":\"col-xs-8 col-sm-7 gene-symbol-description\"}).h2.text[0:35]\n",
    "    cat_NM.append(resl)\n",
    "print(cat_NM)"
   ]
  },
  {
   "cell_type": "markdown",
   "metadata": {},
   "source": [
    "De la misma forma si los valores son diferentes a \"na\" entonces se le agregara los datos de la lista anterior"
   ]
  },
  {
   "cell_type": "code",
   "execution_count": 103,
   "metadata": {},
   "outputs": [
    {
     "name": "stdout",
     "output_type": "stream",
     "text": [
      "['na', 'na', 'na', 'na', 'na', 'Vestigial Like Family Member 3', 'Charged Multivesicular Body Protein', 'POU Class 1 Homeobox 1', '5-Hydroxytryptamine Receptor 1F', 'na', 'CGG Triplet Repeat Binding Protein ', 'Zinc Finger Protein 654', 'na', 'na', 'Solute Carrier Family 12 Member 8', 'na', 'Zinc Finger Protein 148', 'Sorting Nexin 4', 'Oxysterol Binding Protein Like 11', 'Leishmanolysin Like Peptidase', 'Ribosomal Protein L35a', 'IQ Motif Containing G', 'Leucine Rich Repeats And Calponin H', 'Forty-Two-Three Domain Containing 1', 'Rubicon Autophagy Regulator', 'Mucin 20, Cell Surface Associated', 'Mucin 4, Cell Surface Associated', 'Tyrosine Kinase Non Receptor 2', 'Transferrin Receptor', 'Zinc Finger DHHC-Type Palmitoyltran', 'Solute Carrier Family 51 Subunit Al', 'Phosphate Cytidylyltransferase 1A, ', 'na', 'Transmembrane 4 L Six Family Member', 'UBX Domain Protein 7', 'na', 'na', 'Ring Finger Protein 168', 'Single-Pass Membrane Protein With C', 'WD Repeat Domain 53', 'F-Box Protein 45', 'na', 'Negative Regulator Of Reactive Oxyg', 'Centrosomal Protein 19', 'Phosphatidylinositol Glycan Anchor ', 'P21 (RAC1) Activated Kinase 2', 'na', 'SUMO Specific Peptidase 5', 'Nuclear Cap Binding Protein Subunit', 'Phosphatidylinositol Glycan Anchor ', 'na', 'Melanotransferrin', 'Receptor Transporter Protein 2', 'Somatostatin', 'Receptor Transporter Protein 4', 'na', 'MBL Associated Serine Protease 1', 'Receptor Transporter Protein 1', 'na', 'ST6 Beta-Galactoside Alpha-2,6-Sial', 'na', 'Adiponectin, C1Q And Collagen Domai', 'Replication Factor C Subunit 4', 'Eukaryotic Translation Initiation F', 'MicroRNA 1248', 'Kininogen 1', 'Histidine Rich Glycoprotein', 'Fetuin B', 'Alpha 2-HS Glycoprotein', 'na', 'DnaJ Heat Shock Protein Family (Hsp', 'TBCC Domain Containing 1', 'Crystallin Gamma S', 'Diacylglycerol Kinase Gamma', 'ETS Variant Transcription Factor 5', 'na', 'na', 'na', 'Insulin Like Growth Factor 2 MRNA B', 'SUMO Specific Peptidase 2', 'RNA Polymerase II, I And III Subuni', 'Chloride Voltage-Gated Channel 2', 'na', 'Family With Sequence Similarity 131', 'Eukaryotic Translation Initiation F', 'Proteasome 26S Subunit Ubiquitin Re', 'Endothelin Converting Enzyme 2', 'Calcium/Calmodulin Dependent Protei', 'ALG3 Alpha-1,3- Mannosyltransferase', 'MicroRNA 1224', 'ATP Binding Cassette Subfamily F Me', 'Adaptor Related Protein Complex 2 S', 'Dishevelled Segment Polarity Protei', 'Eukaryotic Translation Initiation F', 'na', 'na', 'na', 'na', 'na', 'ATP Binding Cassette Subfamily C Me', 'na', 'Presenilin Associated Rhomboid Like', 'MAP6 Domain Containing 1', 'YEATS Domain Containing 2', 'na', 'Kelch Like Family Member 24', 'na', 'Kelch Like Family Member 6', 'na', 'MCF.2 Cell Line Derived Transformin', 'na', 'na', 'UDP-GlcNAc:BetaGal Beta-1,3-N-Acety', 'na', 'Lysosomal Associated Membrane Prote', 'Methylcrotonyl-CoA Carboxylase Subu', 'Defective In Cullin Neddylation 1 D', 'ATPase Phospholipid Transporting 11', 'na', 'na', 'TRAF2 And NCK Interacting Kinase', 'Solute Carrier Family 2 Member 2', 'na', 'Eukaryotic Translation Initiation F', 'Ribosomal Protein L22 Like 1', 'Solute Carrier Family 7 Member 14', 'Claudin 11', 'SKI Like Proto-Oncogene', 'Protein Kinase C Iota', 'Polyhomeotic Homolog 3', 'na', 'G Protein-Coupled Receptor 160', 'na', 'na', 'SEC62 Homolog, Preprotein Transloca', 'Sterile Alpha Motif Domain Containi', 'Leucine Rich Repeat Containing 31', 'Leucine Rich Repeats And IQ Motif C', 'na', 'Leucine Rich Repeat Containing 34', 'Myoneurin', 'Actin Related Protein T3', 'na', 'na', 'na', 'Short Stature Homeobox 2', 'Ventricular Zone Expressed PH Domai', 'na', 'Pentraxin 3', 'na', 'Cyclin L1', 'na', 'Leucine, Glutamate And Lysine Rich ', 'TCDD Inducible Poly(ADP-Ribose) Pol', 'na', 'Signal Sequence Receptor Subunit 3', 'na', 'na', 'RAP2B, Member Of RAS Oncogene Famil', 'Purinergic Receptor P2Y1', 'na', 'Muscleblind Like Splicing Regulator', 'na', 'Succinate Receptor 1', 'na', 'na', 'na', 'na', 'na', 'na', 'na', 'na', 'Trefoil Factor 3', 'Trefoil Factor 2', 'Trefoil Factor 1', 'Transmembrane Serine Protease 3', 'Ubiquitin Associated And SH3 Domain', 'Radial Spoke Head Component 1', 'Solute Carrier Family 37 Member 1', 'Phosphodiesterase 9A', 'WD Repeat Domain 4', 'NADH:Ubiquinone Oxidoreductase Subu', 'PBX/Knotted 1 Homeobox 1', 'Adenosine Deaminase RNA Specific B1', 'Protein O-Fucosyltransferase 2', 'Collagen Type XVIII Alpha 1 Chain', 'Solute Carrier Family 19 Member 1', 'Poly(RC) Binding Protein 3', 'na', 'Collagen Type VI Alpha 1 Chain', 'Collagen Type VI Alpha 2 Chain', 'Formimidoyltransferase Cyclodeamina', 'Spermatogenesis And Centriole Assoc', 'Lanosterol Synthase', 'Minichromosome Maintenance Complex ', 'YbeY Metalloendoribonuclease', 'na', 'Pericentrin', 'na', 'na', 'Disco Interacting Protein 2 Homolog', 'S100 Calcium Binding Protein B', 'Protein Arginine Methyltransferase ', 'F-Box Protein 25', 'Testis Development Related Protein', 'na', 'Deleted In Azoospermia Like', 'Phospholipase C Like 2', 'TBC1 Domain Family Member 5', 'na', 'SATB Homeobox 1', 'Potassium Voltage-Gated Channel Sub']\n"
     ]
    }
   ],
   "source": [
    "x = 0\n",
    "for i in range(len(Name_of_the_gene)):\n",
    "    if Name_of_the_gene[i]!=\"na\":\n",
    "            Name_of_the_gene[i]=cat_NM[x]\n",
    "            x = x + 1\n",
    "    else:\n",
    "        Name_of_the_gene[i]='na'\n",
    "print(Name_of_the_gene) "
   ]
  },
  {
   "cell_type": "markdown",
   "metadata": {},
   "source": [
    "Nos dimos cuenta que no todos los links tienen una imagen para sacar los datos que se necesitan, es por ello que filtramos a los datos que no contienen informacion de la imagen y nos quedamos con los datos que solo presentan imagen"
   ]
  },
  {
   "cell_type": "code",
   "execution_count": 104,
   "metadata": {},
   "outputs": [
    {
     "name": "stdout",
     "output_type": "stream",
     "text": [
      "['No results', 'No results', 'No results', 'No results', 'No results', 'Showing 25', 'Showing 25', 'Showing 25', 'Showing 25', 'No results', 'Showing 25', 'Showing 25', 'No results', 'No results', 'Showing 25', 'No results', 'Showing 25', 'Showing 25', 'Showing 25', 'Showing 25', 'Showing 25', 'Showing 25', 'Showing 25', 'Showing 25', 'No results', 'Showing 25', 'Showing 25', 'Showing 25', 'Showing 25', 'Showing 25', 'Showing 25', 'Showing 25', 'No results', 'Showing 25', 'Showing 25', 'No results', 'No results', 'Showing 25', 'Showing 25', 'Showing 25', 'Showing 25', 'No results', 'Showing 25', 'Showing 25', 'Showing 25', 'Showing 25', 'No results', 'Showing 25', 'Showing 25', 'Showing 25', 'No results', 'No results', 'Showing 25', 'Showing 25', 'Showing 25', 'No results', 'Showing 25', 'Showing 25', 'No results', 'Showing 25', 'No results', 'Showing 25', 'Showing 25', 'Showing 25', 'Showing 25', 'Showing 25', 'Showing 25', 'Showing 25', 'Showing 25', 'No results', 'Showing 25', 'Showing 25', 'Showing 25', 'Showing 25', 'Showing 25', 'No results', 'No results', 'No results', 'Showing 25', 'Showing 25', 'Showing 25', 'Showing 25', 'No results', 'Showing 25', 'Showing 25', 'Showing 25', 'Showing 25', 'Showing 25', 'Showing 25', 'Showing 25', 'Showing 25', 'Showing 25', 'Showing 25', 'Showing 25', 'No results', 'No results', 'No results', 'No results', 'No results', 'Showing 25', 'No results', 'Showing 25', 'Showing 25', 'Showing 25', 'No results', 'Showing 25', 'No results', 'Showing 25', 'No results', 'Showing 25', 'No results', 'No results', 'Showing 25', 'No results', 'Showing 25', 'Showing 25', 'Showing 25', 'Showing 25', 'No results', 'No results', 'Showing 25', 'Showing 25', 'No results', 'Showing 25', 'Showing 25', 'Showing 25', 'Showing 25', 'Showing 25', 'Showing 25', 'Showing 25', 'No results', 'Showing 25', 'No results', 'No results', 'Showing 25', 'Showing 25', 'Showing 25', 'Showing 25', 'No results', 'Showing 25', 'Showing 25', 'Showing 25', 'No results', 'No results', 'No results', 'Showing 25', 'Showing 25', 'No results', 'Showing 25', 'No results', 'Showing 25', 'No results', 'Showing 25', 'Showing 25', 'No results', 'Showing 25', 'No results', 'No results', 'Showing 25', 'Showing 25', 'No results', 'Showing 25', 'No results', 'Showing 25', 'No results', 'No results', 'No results', 'No results', 'No results', 'No results', 'No results', 'No results', 'Showing 25', 'Showing 25', 'Showing 25', 'Showing 25', 'Showing 25', 'Showing 25', 'Showing 25', 'Showing 25', 'Showing 25', 'Showing 25', 'Showing 25', 'Showing 25', 'Showing 25', 'Showing 25', 'Showing 25', 'Showing 25', 'No results', 'Showing 25', 'Showing 25', 'Showing 25', 'Showing 25', 'Showing 25', 'Showing 25', 'Showing 25', 'No results', 'Showing 25', 'No results', 'No results', 'Showing 25', 'Showing 25', 'Showing 25', 'Showing 25', 'Showing 25', 'No results', 'Showing 25', 'Showing 25', 'Showing 25', 'No results', 'Showing 25', 'Showing 25']\n"
     ]
    }
   ],
   "source": [
    "for i in range(0,145):\n",
    "    requ = Request(urls_1[i], headers={'User-Agent': 'Mozilla/5.0'})\n",
    "    subpage = urlopen(requ).read()\n",
    "    pagesoup=soup(subpage, \"html.parser\")\n",
    "    resl = pagesoup.find(\"div\",{\"class\":\"main-img\"})\n",
    "    if resl==None:\n",
    "        B[A[i]]=\"No results\"\n",
    "print(B)"
   ]
  },
  {
   "cell_type": "markdown",
   "metadata": {},
   "source": [
    "Esto solo afecta a las ultima tres columnas asi que solo las modificaremos a ellas asignandoles los nuevos valores **\"na\"**."
   ]
  },
  {
   "cell_type": "code",
   "execution_count": 105,
   "metadata": {},
   "outputs": [
    {
     "name": "stdout",
     "output_type": "stream",
     "text": [
      "https://www.genecards.org/cgi-bin/carddisp.pl?gene=SLC12A8&keywords=SLC12A8#expression\n"
     ]
    }
   ],
   "source": [
    "RNASeq=[' ']*212\n",
    "Microarray=[' ']*212\n",
    "SAGE=[' ']*212\n",
    "\n",
    "for i in range(len(B)):\n",
    "    if str(B[i]) == \"No results\":\n",
    "        RNASeq[i]=\"NA\"\n",
    "        Microarray[i]=\"NA\"\n",
    "        SAGE[i]=\"NA\"\n",
    "# Actualizamos la lista de indices\n",
    "A=[]\n",
    "for i in range(len(B)):\n",
    "    if RNASeq[i]!=\"NA\":\n",
    "        A.append(i)\n",
    "# Actualizamos los links que poseen la imagen con la informacion\n",
    "\n",
    "urls_1=[]\n",
    "for i in A:\n",
    "       urls_1.append(\"https://www.genecards.org/cgi-bin/carddisp.pl?gene=\"+L[i]+\"&keywords=\"+L[i]+\"#expression\")\n",
    "print(urls_1[6])"
   ]
  },
  {
   "cell_type": "code",
   "execution_count": 106,
   "metadata": {},
   "outputs": [
    {
     "name": "stdout",
     "output_type": "stream",
     "text": [
      "['na', 'na', 'na', 'na', 'na', 'Vestigial Like Family Member 3', 'Charged Multivesicular Body Protein', 'POU Class 1 Homeobox 1', '5-Hydroxytryptamine Receptor 1F', 'na', 'CGG Triplet Repeat Binding Protein ', 'Zinc Finger Protein 654', 'na', 'na', 'Solute Carrier Family 12 Member 8', 'na', 'Zinc Finger Protein 148', 'Sorting Nexin 4', 'Oxysterol Binding Protein Like 11', 'Leishmanolysin Like Peptidase', 'Ribosomal Protein L35a', 'IQ Motif Containing G', 'Leucine Rich Repeats And Calponin H', 'Forty-Two-Three Domain Containing 1', 'Rubicon Autophagy Regulator', 'Mucin 20, Cell Surface Associated', 'Mucin 4, Cell Surface Associated', 'Tyrosine Kinase Non Receptor 2', 'Transferrin Receptor', 'Zinc Finger DHHC-Type Palmitoyltran', 'Solute Carrier Family 51 Subunit Al', 'Phosphate Cytidylyltransferase 1A, ', 'na', 'Transmembrane 4 L Six Family Member', 'UBX Domain Protein 7', 'na', 'na', 'Ring Finger Protein 168', 'Single-Pass Membrane Protein With C', 'WD Repeat Domain 53', 'F-Box Protein 45', 'na', 'Negative Regulator Of Reactive Oxyg', 'Centrosomal Protein 19', 'Phosphatidylinositol Glycan Anchor ', 'P21 (RAC1) Activated Kinase 2', 'na', 'SUMO Specific Peptidase 5', 'Nuclear Cap Binding Protein Subunit', 'Phosphatidylinositol Glycan Anchor ', 'na', 'Melanotransferrin', 'Receptor Transporter Protein 2', 'Somatostatin', 'Receptor Transporter Protein 4', 'na', 'MBL Associated Serine Protease 1', 'Receptor Transporter Protein 1', 'na', 'ST6 Beta-Galactoside Alpha-2,6-Sial', 'na', 'Adiponectin, C1Q And Collagen Domai', 'Replication Factor C Subunit 4', 'Eukaryotic Translation Initiation F', 'MicroRNA 1248', 'Kininogen 1', 'Histidine Rich Glycoprotein', 'Fetuin B', 'Alpha 2-HS Glycoprotein', 'na', 'DnaJ Heat Shock Protein Family (Hsp', 'TBCC Domain Containing 1', 'Crystallin Gamma S', 'Diacylglycerol Kinase Gamma', 'ETS Variant Transcription Factor 5', 'na', 'na', 'na', 'Insulin Like Growth Factor 2 MRNA B', 'SUMO Specific Peptidase 2', 'RNA Polymerase II, I And III Subuni', 'Chloride Voltage-Gated Channel 2', 'na', 'Family With Sequence Similarity 131', 'Eukaryotic Translation Initiation F', 'Proteasome 26S Subunit Ubiquitin Re', 'Endothelin Converting Enzyme 2', 'Calcium/Calmodulin Dependent Protei', 'ALG3 Alpha-1,3- Mannosyltransferase', 'MicroRNA 1224', 'ATP Binding Cassette Subfamily F Me', 'Adaptor Related Protein Complex 2 S', 'Dishevelled Segment Polarity Protei', 'Eukaryotic Translation Initiation F', 'na', 'na', 'na', 'na', 'na', 'ATP Binding Cassette Subfamily C Me', 'na', 'Presenilin Associated Rhomboid Like', 'MAP6 Domain Containing 1', 'YEATS Domain Containing 2', 'na', 'Kelch Like Family Member 24', 'na', 'Kelch Like Family Member 6', 'na', 'MCF.2 Cell Line Derived Transformin', 'na', 'na', 'UDP-GlcNAc:BetaGal Beta-1,3-N-Acety', 'na', 'Lysosomal Associated Membrane Prote', 'Methylcrotonyl-CoA Carboxylase Subu', 'Defective In Cullin Neddylation 1 D', 'ATPase Phospholipid Transporting 11', 'na', 'na', 'TRAF2 And NCK Interacting Kinase', 'Solute Carrier Family 2 Member 2', 'na', 'Eukaryotic Translation Initiation F', 'Ribosomal Protein L22 Like 1', 'Solute Carrier Family 7 Member 14', 'Claudin 11', 'SKI Like Proto-Oncogene', 'Protein Kinase C Iota', 'Polyhomeotic Homolog 3', 'na', 'G Protein-Coupled Receptor 160', 'na', 'na', 'SEC62 Homolog, Preprotein Transloca', 'Sterile Alpha Motif Domain Containi', 'Leucine Rich Repeat Containing 31', 'Leucine Rich Repeats And IQ Motif C', 'na', 'Leucine Rich Repeat Containing 34', 'Myoneurin', 'Actin Related Protein T3', 'na', 'na', 'na', 'Short Stature Homeobox 2', 'Ventricular Zone Expressed PH Domai', 'na', 'Pentraxin 3', 'na', 'Cyclin L1', 'na', 'Leucine, Glutamate And Lysine Rich ', 'TCDD Inducible Poly(ADP-Ribose) Pol', 'na', 'Signal Sequence Receptor Subunit 3', 'na', 'na', 'RAP2B, Member Of RAS Oncogene Famil', 'Purinergic Receptor P2Y1', 'na', 'Muscleblind Like Splicing Regulator', 'na', 'Succinate Receptor 1', 'na', 'na', 'na', 'na', 'na', 'na', 'na', 'na', 'Trefoil Factor 3', 'Trefoil Factor 2', 'Trefoil Factor 1', 'Transmembrane Serine Protease 3', 'Ubiquitin Associated And SH3 Domain', 'Radial Spoke Head Component 1', 'Solute Carrier Family 37 Member 1', 'Phosphodiesterase 9A', 'WD Repeat Domain 4', 'NADH:Ubiquinone Oxidoreductase Subu', 'PBX/Knotted 1 Homeobox 1', 'Adenosine Deaminase RNA Specific B1', 'Protein O-Fucosyltransferase 2', 'Collagen Type XVIII Alpha 1 Chain', 'Solute Carrier Family 19 Member 1', 'Poly(RC) Binding Protein 3', 'na', 'Collagen Type VI Alpha 1 Chain', 'Collagen Type VI Alpha 2 Chain', 'Formimidoyltransferase Cyclodeamina', 'Spermatogenesis And Centriole Assoc', 'Lanosterol Synthase', 'Minichromosome Maintenance Complex ', 'YbeY Metalloendoribonuclease', 'na', 'Pericentrin', 'na', 'na', 'Disco Interacting Protein 2 Homolog', 'S100 Calcium Binding Protein B', 'Protein Arginine Methyltransferase ', 'F-Box Protein 25', 'Testis Development Related Protein', 'na', 'Deleted In Azoospermia Like', 'Phospholipase C Like 2', 'TBC1 Domain Family Member 5', 'na', 'SATB Homeobox 1', 'Potassium Voltage-Gated Channel Sub']\n"
     ]
    }
   ],
   "source": [
    "x = 0\n",
    "for i in range(len(Name_of_the_gene)):\n",
    "    if Name_of_the_gene[i]!=\"na\":\n",
    "            Name_of_the_gene[i]=cat_NM[x]\n",
    "            x = x + 1\n",
    "    else:\n",
    "        Name_of_the_gene[i]='na'\n",
    "print(Name_of_the_gene) "
   ]
  },
  {
   "cell_type": "markdown",
   "metadata": {},
   "source": [
    "### Selenium : \n",
    "Es una herramienta de código abierto, lo que significa que es libre de usar, redistribuir e incluso modificar, por lo que el software está disponible para que cualquiera lo utilice.\n",
    "Se puede hacer uso de cualquiera de estos navegadores :\n",
    "- Safari\n",
    "- Mozilla Firefox\n",
    "- PhantomJS (un navegador sin cabeza)\n",
    "- Google Chrome\n",
    "- Internet Explorer\n",
    "- Ópera."
   ]
  },
  {
   "cell_type": "markdown",
   "metadata": {},
   "source": [
    "Para poder extraer el texto flotante de la imagen requerida, debemos hacer uso de la libreria **Selenium**, de esa manera podremos extraer los codigos a traves de un servidor creado por la misma libreria, y apartir de ese servidor es de donde se extrae la información. La extracción de datos de manera directa a la pagina no es posible, debido a que los datos estan encapsuldos (protección de la información).  \n",
    "Para hacer uso de la libreria **Selenium** para el WebScrapping, es necesario, previamente descargar un _Driver_ de acuerdo a los navegadores mencionados anteriormente, para que de esa manera, se pueda establecer conección con el navegador, y a través del navegador conectarnos a la pagina GeneCards.\n",
    "Al descargar el codigo, y observar la información extraida, observamos que están incompletos, al realizar la extraccion, por default se obtiene el **view code**, lo cual es inncesario para nosotros. Por eso habilitamos el codigo  \n",
    "```\n",
    "                                            EC.visibility_of_all_elements_located\n",
    "```\n",
    "lo cual de manera práctica nos descargará la información requerida. Ahora por medio de **expresiónes regulares** buscaremos la información de interes y lo almacenamos de manera automatizada, en las ista creadas anteriormente de acuerdo al nombre que corresponde."
   ]
  },
  {
   "cell_type": "code",
   "execution_count": 107,
   "metadata": {},
   "outputs": [
    {
     "name": "stdout",
     "output_type": "stream",
     "text": [
      "['25', 'No Data', '0', '44'] 0\n",
      "['42', 'No Data', '21', '44'] 1\n",
      "['2', 'No Data', '3', '0'] 2\n",
      "['6', 'No Data', 'No Data', '3'] 3\n",
      "['43', 'No Data', '18', '49'] 4\n",
      "['23', 'No Data', '0', '20'] 5\n",
      "['10', 'No Data', 'No Data', '11'] 6\n",
      "['22', 'No Data', '3', '26'] 7\n",
      "['35', 'No Data', '6', '38'] 8\n",
      "['22', 'No Data', 'No Data', '27'] 9\n",
      "['16', 'No Data', '3', '11'] 10\n",
      "['156', 'No Data', '398', '260'] 11\n",
      "['15', 'No Data', '0', '29'] 12\n",
      "['23', 'No Data', '7', '28'] 13\n",
      "['39', 'No Data', 'No Data', '55'] 14\n",
      "['9', 'No Data', '18', '14'] 15\n",
      "['10', 'No Data', 'No Data', '2'] 16\n",
      "['44', 'No Data', 'No Data', '27'] 17\n",
      "['32', 'No Data', '15', '44'] 18\n",
      "['5', 'No Data', '0', '1', 'No Data'] 19\n",
      "['9', 'No Data', 'No Data', 'No Data'] 20\n",
      "['23', 'No Data', '0', '50'] 21\n",
      "['7', 'No Data', '0', '28'] 22\n",
      "['24', 'No Data', 'No Data', '27'] 23\n",
      "['26', 'No Data', '6', '30'] 24\n",
      "['2', 'No Data', '3', 'No Data'] 25\n",
      "['20', 'No Data', '3', '28'] 26\n",
      "['15', 'No Data', '6', '20'] 27\n",
      "['20', 'No Data', '3', 'No Data'] 28\n",
      "['10', 'No Data', '0', '10'] 29\n",
      "['20', 'No Data', 'No Data', '32'] 30\n",
      "['41', 'No Data', 'No Data', '43'] 31\n",
      "['26', 'No Data', '9', '26'] 32\n",
      "['44', 'No Data', '50', '58'] 33\n",
      "['22', 'No Data', '3', '24'] 34\n",
      "['83', 'No Data', 'No Data', '0'] 35\n",
      "['7', 'No Data', 'No Data', '0'] 36\n",
      "['16', 'No Data', '3', '15'] 37\n",
      "['9', 'No Data', '0', '18'] 38\n",
      "['1', 'No Data', '0', '84'] 39\n",
      "['31', 'No Data', '3', '32'] 40\n",
      "['134', 'No Data', '3', '227'] 41\n",
      "['21', 'No Data', '6', '27'] 42\n",
      "['114', 'No Data', '80', '120'] 43\n",
      "['No Data', 'No Data', 'No Data', 'No Data'] 44\n",
      "['1', 'No Data', '0', '69'] 45\n",
      "['1', 'No Data', '0', '18'] 46\n",
      "['2', 'No Data', '0', '1'] 47\n",
      "['2', 'No Data', '0', '4'] 48\n",
      "['47', 'No Data', '3', '164'] 49\n",
      "['23', 'No Data', '0', '17'] 50\n",
      "['18', 'No Data', '0', '13'] 51\n",
      "['9', 'No Data', '0', '7'] 52\n",
      "['24', 'No Data', '9', '22'] 53\n",
      "['19', 'No Data', '3', '13'] 54\n",
      "['29', 'No Data', 'No Data', '39'] 55\n",
      "['46', 'No Data', '18', '50'] 56\n",
      "['15', 'No Data', '0', '6'] 57\n",
      "['18', 'No Data', '3', '20', 'No Data'] 58\n",
      "['74', 'No Data', '103', '84'] 59\n",
      "['60', 'No Data', '18', '68'] 60\n",
      "['6', 'No Data', '9', '8'] 61\n",
      "['2', 'No Data', '0', '2'] 62\n",
      "['38', 'No Data', '3', '33'] 63\n",
      "['1', 'No Data', 'No Data', 'No Data'] 64\n",
      "['45', 'No Data', '12', '39'] 65\n",
      "['91', 'No Data', '6', '110'] 66\n",
      "['54', 'No Data', '0', '33'] 67\n",
      "['45', 'No Data', '6', '38'] 68\n",
      "['25', 'No Data', '12', '22'] 69\n",
      "['51', 'No Data', '0', '64'] 70\n",
      "['10', 'No Data', '3', '8'] 71\n",
      "['27', 'No Data', '3', '17'] 72\n",
      "['28', 'No Data', '3', '40'] 73\n",
      "['9', 'No Data', '0', '9'] 74\n",
      "['4', 'No Data', 'No Data', '3'] 75\n",
      "['5', 'No Data', '9', '25', 'No Data'] 76\n",
      "['6', 'No Data', '0', '6'] 77\n",
      "['33', 'No Data', '9', '39'] 78\n",
      "['19', 'No Data', 'No Data', '42'] 79\n",
      "['28', 'No Data', '6', '28'] 80\n",
      "['13', 'No Data', 'No Data', '11'] 81\n",
      "['77', 'No Data', '0', '0'] 82\n",
      "['13', 'No Data', 'No Data', '17'] 83\n",
      "['33', 'No Data', '50', '64'] 84\n",
      "['2', 'No Data', '3', '53'] 85\n",
      "['29', 'No Data', '6', '29'] 86\n",
      "['25', 'No Data', 'No Data', '30'] 87\n",
      "['28', 'No Data', '35', '25'] 88\n",
      "['17', 'No Data', '6', '28'] 89\n",
      "['17', 'No Data', '0', '21'] 90\n",
      "['45', 'No Data', 'No Data', '152'] 91\n",
      "['77', 'No Data', 'No Data', '0'] 92\n",
      "['3', 'No Data', '12', '0'] 93\n",
      "['2', 'No Data', '0', '2'] 94\n",
      "['12', 'No Data', 'No Data', '19'] 95\n",
      "['22', 'No Data', 'No Data', '21'] 96\n",
      "['10', 'No Data', '3', 'No Data'] 97\n",
      "['21', 'No Data', '0', '20'] 98\n",
      "['8', 'No Data', '0', '6'] 99\n",
      "['65', 'No Data', '6', '10'] 100\n",
      "['75', 'No Data', '100', '70'] 101\n",
      "['4', 'No Data', 'No Data', '2'] 102\n",
      "['32', 'No Data', '27', '31'] 103\n",
      "['54', 'No Data', '29', '81'] 104\n",
      "['19', 'No Data', 'No Data', '25'] 105\n",
      "['6', 'No Data', 'No Data', '4'] 106\n",
      "['55', 'No Data', '9', '80'] 107\n",
      "['7', 'No Data', 'No Data', '18'] 108\n",
      "['41', 'No Data', '68', 'No Data'] 109\n",
      "['4', 'No Data', '0', 'No Data'] 110\n",
      "['18', 'No Data', '6', 'No Data'] 111\n",
      "['17', 'No Data', '9', 'No Data', 'No Data'] 112\n",
      "['5', 'No Data', '0', 'No Data'] 113\n",
      "['10', 'No Data', '0', 'No Data'] 114\n",
      "['19', 'No Data', '3', 'No Data'] 115\n",
      "['24', 'No Data', '0', 'No Data'] 116\n",
      "['18', 'No Data', '0', 'No Data'] 117\n",
      "['31', 'No Data', '3', 'No Data'] 118\n",
      "['19', 'No Data', 'No Data', 'No Data'] 119\n",
      "['24', 'No Data', '9', '25'] 120\n",
      "['34', 'No Data', '9', '20'] 121\n",
      "['68', 'No Data', '47', '50'] 122\n",
      "['15', 'No Data', '1', '20'] 123\n",
      "['11', 'No Data', '0', '24'] 124\n",
      "['159', 'No Data', '147', '113'] 125\n",
      "['165', 'No Data', '77', '126'] 126\n",
      "['5', 'No Data', 'No Data', '3'] 127\n",
      "['20', 'No Data', '9', 'No Data'] 128\n",
      "['49', 'No Data', '3', '45'] 129\n",
      "['44', 'No Data', '21', '41'] 130\n",
      "['25', 'No Data', '0', '24'] 131\n",
      "['21', 'No Data', '3', '21'] 132\n",
      "['31', 'No Data', '6', '25'] 133\n",
      "['56', 'No Data', '9', '76'] 134\n",
      "['42', 'No Data', '24', '54'] 135\n",
      "['26', 'No Data', '3', '46', 'No Data'] 136\n",
      "['30', 'No Data', 'No Data', 'No Data'] 137\n",
      "['1', 'No Data', '15', '71'] 138\n",
      "['21', 'No Data', '6', '21'] 139\n",
      "['26', 'No Data', '12', '37'] 140\n",
      "['23', 'No Data', '3', '28'] 141\n",
      "['10', 'No Data', '0', '4'] 142\n",
      "['NA', 'NA', 'NA', 'NA', 'NA', [('25', '44')], [('42', '44')], [('2', '0')], [('6', '3')], 'NA', [('43', '49')], [('23', '20')], 'NA', 'NA', [('10', '11')], 'NA', [('22', '26')], [('35', '38')], [('22', '27')], [('16', '11')], [('156', '260')], [('15', '29')], [('23', '28')], [('39', '55')], 'NA', [('9', '14')], [('10', '2')], [('44', '27')], [('32', '44')], [('5', '1')], [('9', 'No Data')], [('23', '50')], 'NA', [('7', '28')], [('24', '27')], 'NA', 'NA', [('26', '30')], [('2', 'No Data')], [('20', '28')], [('15', '20')], 'NA', [('20', 'No Data')], [('10', '10')], [('20', '32')], [('41', '43')], 'NA', [('26', '26')], [('44', '58')], [('22', '24')], 'NA', 'NA', [('83', '0')], [('7', '0')], [('16', '15')], 'NA', [('9', '18')], [('1', '84')], 'NA', [('31', '32')], 'NA', [('134', '227')], [('21', '27')], [('114', '120')], [('No Data', 'No Data')], [('1', '69')], [('1', '18')], [('2', '1')], [('2', '4')], 'NA', [('47', '164')], [('23', '17')], [('18', '13')], [('9', '7')], [('24', '22')], 'NA', 'NA', 'NA', [('19', '13')], [('29', '39')], [('46', '50')], [('15', '6')], 'NA', [('18', '20')], [('74', '84')], [('60', '68')], [('6', '8')], [('2', '2')], [('38', '33')], [('1', 'No Data')], [('45', '39')], [('91', '110')], [('54', '33')], [('45', '38')], 'NA', 'NA', 'NA', 'NA', 'NA', [('25', '22')], 'NA', [('51', '64')], [('10', '8')], [('27', '17')], 'NA', [('28', '40')], 'NA', [('9', '9')], 'NA', [('4', '3')], 'NA', 'NA', [('5', '25')], 'NA', [('6', '6')], [('33', '39')], [('19', '42')], [('28', '28')], 'NA', 'NA', [('13', '11')], [('77', '0')], 'NA', [('13', '17')], [('33', '64')], [('2', '53')], [('29', '29')], [('25', '30')], [('28', '25')], [('17', '28')], 'NA', [('17', '21')], 'NA', 'NA', [('45', '152')], [('77', '0')], [('3', '0')], [('2', '2')], 'NA', [('12', '19')], [('22', '21')], [('10', 'No Data')], 'NA', 'NA', 'NA', [('21', '20')], [('8', '6')], 'NA', [('65', '10')], 'NA', [('75', '70')], 'NA', [('4', '2')], [('32', '31')], 'NA', [('54', '81')], 'NA', 'NA', [('19', '25')], [('6', '4')], 'NA', [('55', '80')], 'NA', [('7', '18')], 'NA', 'NA', 'NA', 'NA', 'NA', 'NA', 'NA', 'NA', [('41', 'No Data')], [('4', 'No Data')], [('18', 'No Data')], [('17', 'No Data')], [('5', 'No Data')], [('10', 'No Data')], [('19', 'No Data')], [('24', 'No Data')], [('18', 'No Data')], [('31', 'No Data')], [('19', 'No Data')], [('24', '25')], [('34', '20')], [('68', '50')], [('15', '20')], [('11', '24')], 'NA', [('159', '113')], [('165', '126')], [('5', '3')], [('20', 'No Data')], [('49', '45')], [('44', '41')], [('25', '24')], 'NA', [('21', '21')], 'NA', 'NA', [('31', '25')], [('56', '76')], [('42', '54')], [('26', '46')], [('30', 'No Data')], 'NA', [('1', '71')], [('21', '21')], [('26', '37')], 'NA', [('23', '28')], [('10', '4')]]\n"
     ]
    }
   ],
   "source": [
    "j=0\n",
    "for i in range(len(urls_1)):\n",
    "        urlp = urls_1[i]\n",
    "        driver = webdriver.Chrome(\"C:\\\\Users\\\\Krebs\\\\Desktop\\\\Sofia\\\\chromedriver.exe\")\n",
    "        driver.get(urlp)\n",
    "        a=driver.page_source\n",
    "        wait = WebDriverWait(driver, 10)\n",
    "        try:\n",
    "            #wait for the page to load completely\n",
    "            element = wait.until(EC.visibility_of_all_elements_located((By.XPATH, \"/html/body/div[1]/div[3]/div/div/main/div[9]/div/div/section[1]/div[2]/div[2]/div[2]/figure/div[1]/map/area\")))\n",
    "            time.sleep(5)\n",
    "        finally:\n",
    "            driver.quit()\n",
    "        if j<=142:\n",
    "            l=re.findall(\"(\\d+(?=\\S\\sBreast\\s?\\S+?>)|(?<=\\SBreast\\s\\S\\s)\\S+\\s\\S{4})\",a)\n",
    "            print(l,i)\n",
    "            RNASeq[A[i]]=[(l[0],l[3])]\n",
    "            Microarray[A[i]]=l[1]\n",
    "            SAGE[A[i]]=l[2]\n",
    "            j=j+1\n",
    "        else:\n",
    "            break\n",
    "print(RNASeq)"
   ]
  },
  {
   "cell_type": "markdown",
   "metadata": {},
   "source": [
    "El resultado de extraer la columna RNASeq / Microarray / SAGE, se imprimirá en el orden:\n",
    "```\n",
    "                                        [RNASeq-GTEx / Microarray / SAGE / RNASeq- Illumina ]\n",
    "```\n",
    "El tiempo de extracción es un poco largo, aproxidamente demora 15 minutos, en extraer la información de las tres ultimas columnas."
   ]
  },
  {
   "cell_type": "code",
   "execution_count": 109,
   "metadata": {},
   "outputs": [
    {
     "name": "stdout",
     "output_type": "stream",
     "text": [
      "['NA', 'NA', 'NA', 'NA', 'NA', '0', '21', '3', 'na', 'NA', '18', '0', 'NA', 'NA', 'na', 'NA', '3', '6', 'na', '3', '398', '0', '7', 'na', 'NA', '18', 'na', 'na', '15', '0', 'na', '0', 'NA', '0', 'na', 'NA', 'NA', '6', '3', '3', '6', 'NA', '3', '0', 'na', 'na', 'NA', '9', '50', '3', 'NA', 'NA', 'na', 'na', '3', 'NA', '0', '0', 'NA', '3', 'NA', '3', '6', '80', 'na', '0', '0', '0', '0', 'NA', '3', '0', '0', '0', '9', 'NA', 'NA', 'NA', '3', 'na', '18', '0', 'NA', '3', '103', '18', '9', '0', '3', 'na', '12', '6', '0', '6', 'NA', 'NA', 'NA', 'NA', 'NA', '12', 'NA', '0', '3', '3', 'NA', '3', 'NA', '0', 'NA', 'na', 'NA', 'NA', '9', 'NA', '0', '9', 'na', '6', 'NA', 'NA', 'na', '0', 'NA', 'na', '50', '3', '6', 'na', '35', '6', 'NA', '0', 'NA', 'NA', 'na', 'na', '12', '0', 'NA', 'na', 'na', '3', 'NA', 'NA', 'NA', '0', '0', 'NA', '6', 'NA', '100', 'NA', 'na', '27', 'NA', '29', 'NA', 'NA', 'na', 'na', 'NA', '9', 'NA', 'na', 'NA', 'NA', 'NA', 'NA', 'NA', 'NA', 'NA', 'NA', '68', '0', '6', '9', '0', '0', '3', '0', '0', '3', 'na', '9', '9', '47', '1', '0', 'NA', '147', '77', 'na', '9', '3', '21', '0', 'NA', '3', 'NA', 'NA', '6', '9', '24', '3', 'na', 'NA', '15', '6', '12', 'NA', '3', '0']\n"
     ]
    }
   ],
   "source": [
    "for i in range(len(Microarray)):\n",
    "    if Microarray[i]==\"No Data\":\n",
    "        Microarray[i]=\"na\"\n",
    "# print(Microarray)\n",
    "for i in range(len(RNASeq)):\n",
    "    if RNASeq[i]==\"No Data\":\n",
    "        RNASeq[i]=\"na\"\n",
    "# print(RNASeq)\n",
    "for i in range(len(SAGE)):\n",
    "    if SAGE[i]==\"No Data\":\n",
    "        SAGE[i]=\"na\"\n",
    "print(SAGE)\n"
   ]
  },
  {
   "cell_type": "markdown",
   "metadata": {},
   "source": [
    "### Almacenando los datos en un Data Frame"
   ]
  },
  {
   "cell_type": "code",
   "execution_count": 110,
   "metadata": {
    "scrolled": true
   },
   "outputs": [
    {
     "name": "stdout",
     "output_type": "stream",
     "text": [
      "            Genes        Categorias                              Familia  \\\n",
      "0       TRNAS-GGA                na                                   na   \n",
      "1    LOC102173449                na                                   na   \n",
      "2    LOC102169333                na                                   na   \n",
      "3    LOC108636757                na                                   na   \n",
      "4    LOC102187712                na                                   na   \n",
      "..            ...               ...                                  ...   \n",
      "207         PLCL2  (Protein Coding)               Phospholipase C Like 2   \n",
      "208        TBC1D5  (Protein Coding)          TBC1 Domain Family Member 5   \n",
      "209     TRNAW-CCA                na                                   na   \n",
      "210         SATB1  (Protein Coding)                      SATB Homeobox 1   \n",
      "211         KCNH8  (Protein Coding)  Potassium Voltage-Gated Channel Sub   \n",
      "\n",
      "        Inicio      Final      RNASeq Microarray SAGE  \n",
      "0       Inicio      Final          NA         NA   NA  \n",
      "1     32091689   32091761          NA         NA   NA  \n",
      "2     32837131   32838076          NA         NA   NA  \n",
      "3     33089112   33090132          NA         NA   NA  \n",
      "4     33764252   33768221          NA         NA   NA  \n",
      "..         ...        ...         ...        ...  ...  \n",
      "207  153477636  153498961  [(21, 21)]         na    6  \n",
      "208  153722829  153936148  [(26, 37)]         na   12  \n",
      "209  153936559  154524620          NA         NA   NA  \n",
      "210  154244176  154244247  [(23, 28)]         na    3  \n",
      "211  155262593  155364610   [(10, 4)]         na    0  \n",
      "\n",
      "[212 rows x 8 columns]\n"
     ]
    }
   ],
   "source": [
    "df = pd.DataFrame()\n",
    "df['Genes']=L\n",
    "df['Categorias']=Category\n",
    "df['Familia']=Name_of_the_gene\n",
    "df['Inicio']=datos.iloc[:,3]\n",
    "df['Final']=datos.iloc[:,4]\n",
    "df[\"RNASeq\"]=RNASeq\n",
    "df[\"Microarray\"]=Microarray\n",
    "df[\"SAGE\"]=SAGE\n",
    "print(df)"
   ]
  },
  {
   "cell_type": "markdown",
   "metadata": {},
   "source": [
    "### Creando un csv:"
   ]
  },
  {
   "cell_type": "code",
   "execution_count": 113,
   "metadata": {},
   "outputs": [],
   "source": [
    "df.to_csv(\"GenesCards.csv\")"
   ]
  },
  {
   "cell_type": "code",
   "execution_count": null,
   "metadata": {},
   "outputs": [],
   "source": []
  }
 ],
 "metadata": {
  "kernelspec": {
   "display_name": "Python 3",
   "language": "python",
   "name": "python3"
  },
  "language_info": {
   "codemirror_mode": {
    "name": "ipython",
    "version": 3
   },
   "file_extension": ".py",
   "mimetype": "text/x-python",
   "name": "python",
   "nbconvert_exporter": "python",
   "pygments_lexer": "ipython3",
   "version": "3.7.6"
  }
 },
 "nbformat": 4,
 "nbformat_minor": 5
}
